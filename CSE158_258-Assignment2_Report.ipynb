{
 "cells": [
  {
   "cell_type": "markdown",
   "id": "c92622d6-569d-43d1-8724-61b7614155bb",
   "metadata": {},
   "source": [
    "CSE 158/258 - Recommender Sys & Web Mining - FA24\n",
    "# Assignment 2 Report\n",
    "\n",
    "Andrew Choi (A69033628), Chanbin Na (AA18087468), Jonghee Chun (A69033997), Kenny Hwang (A99021639)\n",
    "\n",
    "[Github Repo](https://github.com/cjychoi/cse258-fa24/tree/main)"
   ]
  },
  {
   "cell_type": "markdown",
   "id": "1d395e90-efdb-4ced-8d7d-973d3ad8f967",
   "metadata": {},
   "source": [
    "## 1. Dataset and Exploratory Analysis\n",
    "\n",
    "**Dataset: Food.com Recipes and Interactions**\\\n",
    "Source: https://www.kaggle.com/datasets/shuyangli94/food-com-recipes-and-user-interactions\n",
    "\n",
    "This dataset includes over 180K+ recipes and 700K+ recipe reviews spanning 18 years of user interactions and uploads on Food.com. For our analysis, we will utilize two files: RAW_interactions.csv and RAW_recipes.csv. We selected this dataset due to its rich and diverse information, such as ratings, reviews, tags, nutritional details, ingredients, steps, and descriptions.\n",
    "\n",
    "<img src=\"img/dataset_img1.png\" width=\"700\">\n",
    "\n",
    "Notably, the ratings appear to be skewed towards 5 out of 5, so we plan to treat ratings of 4 as indicative of a 'bad' review.\n"
   ]
  },
  {
   "cell_type": "markdown",
   "id": "30f4e49d-d877-4d3b-b48e-ec1a02acd466",
   "metadata": {},
   "source": [
    "## 2. Predictive Task and Evaluation"
   ]
  },
  {
   "cell_type": "markdown",
   "id": "5b25061d-a73c-45f0-8b8d-20374d4ac2a9",
   "metadata": {},
   "source": [
    "## 3. Model Description"
   ]
  },
  {
   "cell_type": "markdown",
   "id": "d423d97a-47b6-4b64-927d-0c5b6063f457",
   "metadata": {},
   "source": [
    "## 4. Related Literature"
   ]
  },
  {
   "cell_type": "markdown",
   "id": "04e061a8-af72-4de0-9836-f63ec2447986",
   "metadata": {},
   "source": [
    "## 5. Results and Conclusions"
   ]
  },
  {
   "cell_type": "markdown",
   "id": "c860880c-4f62-48b6-8342-fcd16c48eb74",
   "metadata": {},
   "source": [
    "## 6. References\n",
    "\n",
    "**Food.com Recipes and Interactions (Kaggle)**\\\n",
    "Crawled data from Food.com (GeniusKitchen) online recipe aggregator\\\n",
    "https://www.kaggle.com/datasets/shuyangli94/food-com-recipes-and-user-interactions?select=PP_recipes.csv\n",
    "\n",
    "\n",
    "**Generating Personalized Recipes from Historical User Preferences**\\\n",
    "Bodhisattwa Prasad Majumder*, Shuyang Li*, Jianmo Ni, Julian McAuley\n",
    "EMNLP, 2019\\\n",
    "https://www.aclweb.org/anthology/D19-1613/\\\n",
    "https://aclanthology.org/D19-1613.pdf\n"
   ]
  },
  {
   "cell_type": "markdown",
   "id": "e4216444-c36f-4e0e-bee4-2983fc052de6",
   "metadata": {},
   "source": []
  },
  {
   "cell_type": "code",
   "execution_count": null,
   "id": "7e793edd-c4b1-4849-84c8-88eac7a6d388",
   "metadata": {},
   "outputs": [],
   "source": []
  }
 ],
 "metadata": {
  "kernelspec": {
   "display_name": "Python 3 (ipykernel)",
   "language": "python",
   "name": "python3"
  },
  "language_info": {
   "codemirror_mode": {
    "name": "ipython",
    "version": 3
   },
   "file_extension": ".py",
   "mimetype": "text/x-python",
   "name": "python",
   "nbconvert_exporter": "python",
   "pygments_lexer": "ipython3",
   "version": "3.11.8"
  }
 },
 "nbformat": 4,
 "nbformat_minor": 5
}
