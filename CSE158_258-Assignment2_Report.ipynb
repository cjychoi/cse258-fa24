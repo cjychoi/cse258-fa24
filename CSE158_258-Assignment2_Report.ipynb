{
 "cells": [
  {
   "cell_type": "markdown",
   "id": "c92622d6-569d-43d1-8724-61b7614155bb",
   "metadata": {},
   "source": [
    "CSE 158/258 - Recommender Sys & Web Mining - FA24\n",
    "# Assignment 2 Report\n",
    "\n",
    "Andrew Choi (A69033628), Chanbin Na (AA18087468), Jonghee Chun (A69033997), Kenny Hwang (A99021639)\n",
    "\n",
    "[Github Repo](https://github.com/cjychoi/cse258-fa24/tree/main)"
   ]
  },
  {
   "cell_type": "markdown",
   "id": "1d395e90-efdb-4ced-8d7d-973d3ad8f967",
   "metadata": {},
   "source": [
    "## 1. Exploratory Dataset Analysis\n",
    "\n",
    "**Dataset: Food.com Recipes and Interactions**\\\n",
    "Source: https://www.kaggle.com/datasets/shuyangli94/food-com-recipes-and-user-interactions\n",
    "\n",
    "This dataset includes over 180K+ recipes and 700K+ recipe reviews spanning 18 years of user interactions and uploads on Food.com. For our analysis, we will utilize two files: **RAW_interactions.csv** and **RAW_recipes.csv**. We selected this dataset due to its rich and diverse information. Some of the interesting values included: \n",
    "```\n",
    "user_id: Unique user ID values\n",
    "recipe_id: Unique recipe ID values\n",
    "rating: Rating given from user (0~5 scale)\n",
    "review: Review of the recipe (text)\n",
    "minutes: Minutes to prepare the recipe\n",
    "tags: Food.com tags for each recipes\n",
    "nutrition: Nutrition information (calories, total fat, sugar, sodium, protein, saturated fat)\n",
    "n_steps: Number of steps in recipe\n",
    "ingredients: List of ingredient names\n",
    "n_ingredients: Number of ingredients\n",
    "description: User-provided description\n",
    "```\n",
    "\n",
    "From the first glance, a lot of values seemed to have interesting correlations to each other, such as 'minutes', 'n_steps', and 'n_ingredients' may affect the user's 'rating' because it could be a burden to cook a complicated recipe and may lead to a lower rating.\n",
    "\n",
    "We have summarized the properites of the dataset and was able to retrieve the following results:\\\n",
    "<img src=\"img/data_summary.png\" width=\"280\">\n",
    "<img src=\"img/data_ratings.png\" width=\"400\">\n",
    "<img src=\"img/data_ingredients.png\" width=\"400\">\n",
    "<img src=\"img/data_recipe_sub.png\" width=\"404\">\n",
    "\n",
    "### Analysis\n",
    "- Dataset Characteristics:\n",
    "    - The dataset is extensive, with over 230,000 recipes and 1.1 million interactions, making it robust for machine learning tasks like recommendation systems or rating predictions.\n",
    "    - The average number of ingredients per recipe (around 9.55) suggests that most recipes are relatively simple, with a manageable number of ingredients.\n",
    "\n",
    "- Rating Distribution:\n",
    "    - The ratings are heavily skewed towards the highest score (5), which might indicate a bias in user reviews or a tendency for users to rate recipes they liked rather than disliked.\n",
    "    - The small number of ratings below 4 suggests that poorly received recipes may either not be reviewed often or that users prefer not to leave negative feedback.\n",
    "\n",
    "- Ingredients Popularity:\n",
    "    - Common ingredients like salt, butter, sugar, and onion dominate the dataset, reflecting their foundational role in a wide variety of recipes.\n",
    "    - These ingredients are versatile and likely to appear in both simple and complex recipes, which might impact model predictions for recipe similarity or ingredient importance.\n",
    "\n",
    "- Temporal Trends:\n",
    "    - Recipe submissions peaked around 2007, reflecting either a surge in platform popularity or increased engagement during that period.\n",
    "    - The sharp decline after 2007 might be due to changes in platform usage, competition from other recipe-sharing platforms, or a reduction in user engagement.\n",
    "\n",
    "- Insights for Predictive Modeling:\n",
    "    - The skewed rating distribution could pose challenges for regression models, requiring careful handling, such as rebalancing or weighted loss functions, to mitigate bias.\n",
    "    - The dominance of certain ingredients might mean they have less predictive power for ratings, as they are present in a large proportion of recipes.\n",
    "    - Temporal trends could be factored into models to study how recipe popularity or user engagement changed over time, which might also correlate with rating patterns.\n"
   ]
  },
  {
   "cell_type": "markdown",
   "id": "30f4e49d-d877-4d3b-b48e-ec1a02acd466",
   "metadata": {},
   "source": [
    "## 2. Predictive Task and Evaluation"
   ]
  },
  {
   "cell_type": "markdown",
   "id": "5b25061d-a73c-45f0-8b8d-20374d4ac2a9",
   "metadata": {},
   "source": [
    "## 3. Model Description\n",
    "\n",
    "### Proposed Model:\n",
    "\n",
    "Description of the model(s) used and why they were chosen.\\\n",
    "Explanation of how the model was implemented and optimized.\n",
    "\n",
    "### Challenges\n",
    "\n",
    "Major challenge that we had was determining the correlation between the features and the ratings.\\\n",
    "**TO-DO (Chanbin)**"
   ]
  },
  {
   "cell_type": "markdown",
   "id": "d423d97a-47b6-4b64-927d-0c5b6063f457",
   "metadata": {},
   "source": [
    "## 4. Related Literature"
   ]
  },
  {
   "cell_type": "markdown",
   "id": "04e061a8-af72-4de0-9836-f63ec2447986",
   "metadata": {},
   "source": [
    "## 5. Results and Conclusions"
   ]
  },
  {
   "cell_type": "markdown",
   "id": "c860880c-4f62-48b6-8342-fcd16c48eb74",
   "metadata": {},
   "source": [
    "## 6. References\n",
    "\n",
    "**Food.com Recipes and Interactions (Kaggle)**\\\n",
    "Crawled data from Food.com (GeniusKitchen) online recipe aggregator\\\n",
    "https://www.kaggle.com/datasets/shuyangli94/food-com-recipes-and-user-interactions?select=PP_recipes.csv\n",
    "\n",
    "\n",
    "**Generating Personalized Recipes from Historical User Preferences**\\\n",
    "Bodhisattwa Prasad Majumder*, Shuyang Li*, Jianmo Ni, Julian McAuley\n",
    "EMNLP, 2019\\\n",
    "https://www.aclweb.org/anthology/D19-1613/\\\n",
    "https://aclanthology.org/D19-1613.pdf\n"
   ]
  },
  {
   "cell_type": "markdown",
   "id": "e4216444-c36f-4e0e-bee4-2983fc052de6",
   "metadata": {},
   "source": []
  },
  {
   "cell_type": "code",
   "execution_count": null,
   "id": "7e793edd-c4b1-4849-84c8-88eac7a6d388",
   "metadata": {},
   "outputs": [],
   "source": []
  }
 ],
 "metadata": {
  "kernelspec": {
   "display_name": "Python 3 (ipykernel)",
   "language": "python",
   "name": "python3"
  },
  "language_info": {
   "codemirror_mode": {
    "name": "ipython",
    "version": 3
   },
   "file_extension": ".py",
   "mimetype": "text/x-python",
   "name": "python",
   "nbconvert_exporter": "python",
   "pygments_lexer": "ipython3",
   "version": "3.11.8"
  }
 },
 "nbformat": 4,
 "nbformat_minor": 5
}
