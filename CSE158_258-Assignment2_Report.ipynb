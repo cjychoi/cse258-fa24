{
 "cells": [
  {
   "cell_type": "markdown",
   "id": "c92622d6-569d-43d1-8724-61b7614155bb",
   "metadata": {},
   "source": [
    "CSE 158/258 - Recommender Sys & Web Mining - FA24\n",
    "# Assignment 2 Report\n",
    "\n",
    "Andrew Choi (A69033628), Chanbin Na (AA18087468), Jonghee Chun (A69033997), Kenny Hwang (A99021639)\n",
    "\n",
    "[Github Repo](https://github.com/cjychoi/cse258-fa24/tree/main)"
   ]
  },
  {
   "cell_type": "markdown",
   "id": "1d395e90-efdb-4ced-8d7d-973d3ad8f967",
   "metadata": {},
   "source": [
    "## 1. Exploratory Dataset Analysis\n",
    "\n",
    "**Dataset: Food.com Recipes and Interactions**\\\n",
    "Source: https://www.kaggle.com/datasets/shuyangli94/food-com-recipes-and-user-interactions\n",
    "\n",
    "This dataset includes over 180K+ recipes and 700K+ recipe reviews spanning 18 years of user interactions and uploads on Food.com. For our analysis, we will utilize two files: **RAW_interactions.csv** and **RAW_recipes.csv**. We selected this dataset due to its rich and diverse information. Some of the interesting values included: \n",
    "```\n",
    "- user_id: Unique user ID values\n",
    "- recipe_id: Unique recipe ID values\n",
    "- rating: Rating given from user (0~5 scale)\n",
    "- review: Review of the recipe (text)\n",
    "- minutes: Minutes to prepare the recipe\n",
    "- tags: Food.com tags for each recipes\n",
    "- nutrition: Nutrition information (calories, total fat, sugar, sodium, protein, saturated fat, and carbohydrates)\n",
    "- n_steps: Number of steps in recipe\n",
    "- ingredients: List of ingredient names\n",
    "- n_ingredients: Number of ingredients\n",
    "- description: User-provided description\n",
    "```\n",
    "\n",
    "From the first glance, a lot of values seemed to have interesting correlations to each other, such as 'minutes', 'n_steps', and 'n_ingredients' may affect the user's 'rating' because it could be a burden to cook a complicated recipe and may lead to a lower rating.\n",
    "\n",
    "We have summarized the properites of the dataset and was able to retrieve the following results:\\\n",
    "<img src=\"img/data_summary.png\" width=\"350\">\n",
    "<img src=\"img/data_ratings.png\" width=\"500\">\n",
    "<img src=\"img/data_ingredients.png\" width=\"500\">\n",
    "<img src=\"img/data_recipe_sub.png\" width=\"504\">\n",
    "\n",
    "### Analysis\n",
    "- **Dataset Characteristics:**\n",
    "    - The dataset is extensive, with over 230,000 recipes and 1.1 million interactions, making it robust for machine learning tasks like recommendation systems or rating predictions.\n",
    "    - The average number of ingredients per recipe (around 9.55) suggests that most recipes are relatively simple, with a manageable number of ingredients.\n",
    "\n",
    "- **Rating Distribution:**\n",
    "    - The ratings are heavily skewed towards the highest score (5), which might indicate a bias in user reviews or a tendency for users to rate recipes they liked rather than disliked.\n",
    "    - The small number of ratings below 4 suggests that poorly received recipes may either not be reviewed often or that users prefer not to leave negative feedback.\n",
    "\n",
    "- **Ingredients Popularity:**\n",
    "    - Common ingredients like salt, butter, sugar, and onion dominate the dataset, reflecting their foundational role in a wide variety of recipes.\n",
    "    - These ingredients are versatile and likely to appear in both simple and complex recipes, which might impact model predictions for recipe similarity or ingredient importance.\n",
    "\n",
    "- **Temporal Trends:**\n",
    "    - Recipe submissions peaked around 2007, reflecting either a surge in platform popularity or increased engagement during that period.\n",
    "    - The sharp decline after 2007 might be due to changes in platform usage, competition from other recipe-sharing platforms, or a reduction in user engagement.\n",
    "\n",
    "- **Insights for Predictive Modeling:**\n",
    "    - The skewed rating distribution could pose challenges for regression models, requiring careful handling, such as rebalancing or weighted loss functions, to mitigate bias.\n",
    "    - The dominance of certain ingredients might mean they have less predictive power for ratings, as they are present in a large proportion of recipes.\n",
    "    - Temporal trends could be factored into models to study how recipe popularity or user engagement changed over time, which might also correlate with rating patterns.\n"
   ]
  },
  {
   "cell_type": "markdown",
   "id": "e19b421c",
   "metadata": {},
   "source": [
    "## 2. Predictive Task and Evaluation\n",
    "\n",
    "### Predictive Task 1\n",
    "\n",
    "The goal is to predict the rating. As a first step, we analyzed whether any features of the recipes show a correlation with the rating. We examined all the numerical features—`minutes`, `n_steps`, `n_ingredients`, and all the `nutrition` (calories, total fat, sugar, sodium, protein, saturated fat, and carbohydrates)—to determine if they have any correlation with the rating. \n",
    "\n",
    "<img src=\"img/correlationMatrix.png\" width=\"500\">"
   ]
  },
  {
   "cell_type": "markdown",
   "id": "f26c8ac1",
   "metadata": {},
   "source": [
    "In addition to calculating the correlation, we also determined the coefficients to quantify the relationship between these features and the rating.\n",
    "\n",
    "\n",
    "| Feature          | Coefficient | Intercept | R² Score |\n",
    "|-------------------|-------------|-----------|----------|\n",
    "| minutes          | 0.000       | 4.411     | 0.000    |\n",
    "| n_steps          | -0.005      | 4.455     | 0.000    |\n",
    "| n_ingredients    | -0.001      | 4.422     | 0.000    |\n",
    "| calories         | -0.000      | 4.418     | 0.000    |\n",
    "| total_fat        | -0.000      | 4.415     | 0.000    |\n",
    "| sugar            | -0.000      | 4.413     | 0.000    |\n",
    "| sodium           | -0.000      | 4.412     | 0.000    |\n",
    "| protein          | -0.000      | 4.414     | 0.000    |\n",
    "| saturated_fat    | -0.000      | 4.415     | 0.000    |\n",
    "| carbohydrates    | -0.000      | 4.415     | 0.000    |"
   ]
  },
  {
   "cell_type": "markdown",
   "id": "a967ca8f",
   "metadata": {},
   "source": [
    "The analysis shows that `minutes`, `n_steps`, `n_ingredients`, and all the `nutrition` values have negligible correlations with `rating`, and their regression models exhibit extremely low coefficients and R² scores of 0.000, indicating no explanatory power for variance in `rating`."
   ]
  },
  {
   "cell_type": "markdown",
   "id": "c94ac554-9df3-4096-b79d-12a6b1280ed5",
   "metadata": {},
   "source": [
    "\n",
    "\n",
    "### Predictive Task 2\n",
    "The task is to recommend recipes similar to a given recipe based on their ingredient similarity. The **Jaccard Similarity** is used to calculate the similarity between the sets of ingredients in recipes. The results provide the top 5 similar recipes for a given target recipe.\n",
    "\n",
    "### Data Processing\n",
    "- Input Features: The ingredients of each recipe are used as input features. These are stored in the ingredients column in the dataset.\n",
    "- Preprocessing: The ingredients column is converted into a set for each recipe, enabling the computation of Jaccard Similarity.\n",
    "- Mapping: Recipe IDs are mapped to their respective ingredient sets using the id column for identification\n",
    "\n",
    "### Model\n",
    "- Jaccard Similarity:\n",
    "    - Measures the similarity between two sets as the ratio of the intersection size to the union size.\n",
    "​\n",
    "- Baseline:\n",
    "    - The baseline for this task is a random recommendation, which serves as a benchmark to compare the performance of the Jaccard-based similarity recommendation system."
   ]
  },
  {
   "cell_type": "markdown",
   "id": "8ab99a60-d2b8-4dbe-98ad-c8131ba5cb66",
   "metadata": {},
   "source": [
    "### Results\n",
    "```\n",
    "Top 5 Recipes Similar to 'arriba   baked winter squash mexican style':\n",
    "\n",
    "Recipe: berber spice roasted chickpeas (ID: 514675)\n",
    "Ingredients: dried garbanzo beans, salt, olive oil, mixed spice\n",
    "Jaccard Similarity: 0.38\n",
    "\n",
    "Recipe: ed s homemade microwave buttery popcorn (ID: 408958)\n",
    "Ingredients: popcorn, butter, olive oil, salt\n",
    "Jaccard Similarity: 0.38\n",
    "\n",
    "Recipe: honey roasted peanuts (ID: 147856)\n",
    "Ingredients: peanuts, butter, honey, salt\n",
    "Jaccard Similarity: 0.38\n",
    "\n",
    "Recipe: julia child method of preparing garlic (ID: 104441)\n",
    "Ingredients: garlic, butter, olive oil, salt\n",
    "Jaccard Similarity: 0.38\n",
    "\n",
    "Recipe: potatoes rissole (ID: 72347)\n",
    "Ingredients: russet potatoes, salt, butter, olive oil\n",
    "Jaccard Similarity: 0.38\n",
    "```\n",
    "\n",
    "**Ingredient Overlap:**\n",
    "- Many of the recommended recipes have overlapping ingredients like salt, olive oil, and butter, which are common foundational ingredients.\n",
    "- This high overlap in foundational ingredients likely drives the similarity scores.\n",
    "\n",
    "**Limitations:**\n",
    "- The recommendations are heavily influenced by the most commonly occurring ingredients (e.g., salt, olive oil), which could reduce diversity in recommendations.\n",
    "- Recipes with unique or specialized ingredients may not be well-represented due to their rarity in the dataset.\n",
    "\n",
    "**Potential Enhancements:**\n",
    "- Weighting ingredient importance could improve the diversity of recommendations by prioritizing unique ingredients over ubiquitous ones.\n",
    "- Incorporating additional features such as tags, preparation steps, or user ratings could refine the recommendation system.\n",
    "\n",
    "### Evaluation of Predictive Task\n",
    "\n",
    "**Evaluation:**\n",
    "- The recommendations are evaluated qualitatively by examining the relevance of the similar recipes.\n",
    "- Quantitative evaluation can include precision and recall by comparing recommendations to user interaction data (if available).\n",
    "\n",
    "**Baseline:**\n",
    "- Random recipe recommendations serve as the baseline for comparison. The Jaccard Similarity-based system outperforms this by providing contextually similar recipes.\n",
    "\n",
    "**Validity:**\n",
    "- The approach is valid as it directly leverages shared ingredient sets, which align with user expectations for similar recipes."
   ]
  },
  {
   "cell_type": "markdown",
   "id": "5b25061d-a73c-45f0-8b8d-20374d4ac2a9",
   "metadata": {},
   "source": [
    "## 3. Model Description\n",
    "\n",
    "### Proposed Model:\n",
    "\n",
    "Description of the model(s) used and why they were chosen.\\\n",
    "Explanation of how the model was implemented and optimized.\n",
    "\n",
    "### Challenges\n",
    "\n",
    "Major challenge that we had was determining the correlation between the features and the ratings."
   ]
  },
  {
   "cell_type": "markdown",
   "id": "d423d97a-47b6-4b64-927d-0c5b6063f457",
   "metadata": {},
   "source": [
    "## 4. Related Literature"
   ]
  },
  {
   "cell_type": "markdown",
   "id": "04e061a8-af72-4de0-9836-f63ec2447986",
   "metadata": {},
   "source": [
    "## 5. Results and Conclusions"
   ]
  },
  {
   "cell_type": "markdown",
   "id": "c860880c-4f62-48b6-8342-fcd16c48eb74",
   "metadata": {},
   "source": [
    "## 6. References\n",
    "\n",
    "**Food.com Recipes and Interactions (Kaggle)**\\\n",
    "Crawled data from Food.com (GeniusKitchen) online recipe aggregator\\\n",
    "https://www.kaggle.com/datasets/shuyangli94/food-com-recipes-and-user-interactions?select=PP_recipes.csv\n",
    "\n",
    "\n",
    "**Generating Personalized Recipes from Historical User Preferences**\\\n",
    "Bodhisattwa Prasad Majumder*, Shuyang Li*, Jianmo Ni, Julian McAuley\n",
    "EMNLP, 2019\\\n",
    "https://www.aclweb.org/anthology/D19-1613/\\\n",
    "https://aclanthology.org/D19-1613.pdf\n"
   ]
  },
  {
   "cell_type": "markdown",
   "id": "e4216444-c36f-4e0e-bee4-2983fc052de6",
   "metadata": {},
   "source": []
  },
  {
   "cell_type": "code",
   "execution_count": null,
   "id": "7e793edd-c4b1-4849-84c8-88eac7a6d388",
   "metadata": {},
   "outputs": [],
   "source": []
  }
 ],
 "metadata": {
  "kernelspec": {
   "display_name": "Python 3 (ipykernel)",
   "language": "python",
   "name": "python3"
  },
  "language_info": {
   "codemirror_mode": {
    "name": "ipython",
    "version": 3
   },
   "file_extension": ".py",
   "mimetype": "text/x-python",
   "name": "python",
   "nbconvert_exporter": "python",
   "pygments_lexer": "ipython3",
   "version": "3.11.8"
  }
 },
 "nbformat": 4,
 "nbformat_minor": 5
}
