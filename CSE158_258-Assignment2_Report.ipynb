{
 "cells": [
  {
   "cell_type": "markdown",
   "id": "c92622d6-569d-43d1-8724-61b7614155bb",
   "metadata": {},
   "source": [
    "CSE 158/258 - Recommender Sys & Web Mining - FA24\n",
    "# Assignment 2 Report\n",
    "\n",
    "Andrew Choi (A69033628), Chanbin Na (AA18087468), Jonghee Chun (A69033997), Kenny Hwang (A99021639)\n",
    "\n",
    "[Github Repo](https://github.com/cjychoi/cse258-fa24/tree/main)"
   ]
  },
  {
   "cell_type": "markdown",
   "id": "1d395e90-efdb-4ced-8d7d-973d3ad8f967",
   "metadata": {},
   "source": [
    "## 1. Dataset and Exploratory Analysis"
   ]
  },
  {
   "cell_type": "code",
   "execution_count": null,
   "id": "447e72de-6dae-491d-a1f7-b5dd29afeca4",
   "metadata": {},
   "outputs": [],
   "source": []
  }
 ],
 "metadata": {
  "kernelspec": {
   "display_name": "Python 3 (ipykernel)",
   "language": "python",
   "name": "python3"
  },
  "language_info": {
   "codemirror_mode": {
    "name": "ipython",
    "version": 3
   },
   "file_extension": ".py",
   "mimetype": "text/x-python",
   "name": "python",
   "nbconvert_exporter": "python",
   "pygments_lexer": "ipython3",
   "version": "3.11.8"
  }
 },
 "nbformat": 4,
 "nbformat_minor": 5
}
