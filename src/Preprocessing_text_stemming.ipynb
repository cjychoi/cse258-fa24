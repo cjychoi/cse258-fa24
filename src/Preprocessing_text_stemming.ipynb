{
 "cells": [
  {
   "cell_type": "code",
   "execution_count": 1,
   "id": "de0bbd15-b1ad-499d-8ca9-d437fc21fabb",
   "metadata": {},
   "outputs": [
    {
     "name": "stderr",
     "output_type": "stream",
     "text": [
      "[nltk_data] Downloading package stopwords to /Users/jh/nltk_data...\n",
      "[nltk_data]   Package stopwords is already up-to-date!\n"
     ]
    },
    {
     "data": {
      "text/plain": [
       "True"
      ]
     },
     "execution_count": 1,
     "metadata": {},
     "output_type": "execute_result"
    }
   ],
   "source": [
    "import csv\n",
    "import nltk\n",
    "import re\n",
    "import string\n",
    "from collections import defaultdict\n",
    "from nltk.stem.porter import PorterStemmer\n",
    "\n",
    "nltk.download('stopwords')"
   ]
  },
  {
   "cell_type": "code",
   "execution_count": 2,
   "id": "e77368c0-f5ba-4fda-8842-a92e1624d897",
   "metadata": {},
   "outputs": [],
   "source": [
    "# ID Mapping\n",
    "ridToIdx = {}\n",
    "with open('Mapping_recipe_id.csv', mode='r', encoding='utf-8') as fr:\n",
    "    reader = csv.DictReader(fr)\n",
    "    for row in reader:\n",
    "        ridToIdx[row['recipe_id']] = row['new_recipe_id']\n",
    "\n",
    "uidToIdx = {}\n",
    "with open('Mapping_user_id.csv', mode='r', encoding='utf-8') as fr:\n",
    "    reader = csv.DictReader(fr)\n",
    "    for row in reader:\n",
    "        uidToIdx[row['user_id']] = row['new_user_id']"
   ]
  },
  {
   "cell_type": "code",
   "execution_count": 9,
   "id": "707c9fcd-336c-4748-8748-56d730a5ffa1",
   "metadata": {},
   "outputs": [],
   "source": [
    "stop_words = set(nltk.corpus.stopwords.words('english'))\n",
    "punctuation = set(string.punctuation)\n",
    "stemmer = PorterStemmer()"
   ]
  },
  {
   "cell_type": "code",
   "execution_count": 11,
   "id": "de6013cc-571d-4acf-a316-b1e1fb5daea2",
   "metadata": {},
   "outputs": [],
   "source": [
    "# Text Preprocessing\n",
    "def preprocess_text(text):\n",
    "    text = ''.join([c.lower() if c not in punctuation else ' ' for c in text])\n",
    "    tokens = text.split()\n",
    "    tokens = [stemmer.stem(word) for word in tokens if word not in stop_words and not re.search(r'\\d', word)]\n",
    "    return ' '.join(tokens)"
   ]
  },
  {
   "cell_type": "code",
   "execution_count": 13,
   "id": "a43ef3e6-12a6-46a3-b486-29badf59d432",
   "metadata": {},
   "outputs": [],
   "source": [
    "# Process RAW_recipes.csv\n",
    "with open(\"RAW_recipes.csv\", mode='r', encoding='utf-8') as fr, \\\n",
    "    open('RAW_recipes_textProc.csv', mode='w', encoding='utf-8', newline='') as fw:\n",
    "    reader = csv.DictReader(fr)\n",
    "    writer = csv.DictWriter(fw, fieldnames=reader.fieldnames)\n",
    "    writer.writeheader()\n",
    "    for row in reader:\n",
    "        row['description'] = preprocess_text(row['description'])\n",
    "        row['steps'] = preprocess_text(row['steps'])\n",
    "        writer.writerow(row)"
   ]
  },
  {
   "cell_type": "code",
   "execution_count": 17,
   "id": "d4bfce2c-a437-432e-8b05-daa92c1b8e53",
   "metadata": {},
   "outputs": [],
   "source": [
    "# Process RAW_interactions.csv\n",
    "with open(\"RAW_interactions.csv\", mode='r', encoding='utf-8') as fr, \\\n",
    "    open('RAW_interactions_textProc.csv', mode='w', encoding='utf-8', newline='') as fw:\n",
    "    reader = csv.DictReader(fr)\n",
    "    writer = csv.DictWriter(fw, fieldnames=reader.fieldnames)\n",
    "    writer.writeheader()\n",
    "    for row in reader:\n",
    "        row['user_id'] = uidToIdx[row['user_id']]\n",
    "        row['recipe_id'] = ridToIdx[row['recipe_id']]\n",
    "        row['review'] = preprocess_text(row['review'])\n",
    "        writer.writerow(row)"
   ]
  },
  {
   "cell_type": "code",
   "execution_count": 18,
   "id": "4446f1d8-1c37-4f30-bd56-568e7f003d7d",
   "metadata": {},
   "outputs": [],
   "source": [
    "# Stem Word Mapping for Reviews\n",
    "stemWords = {}\n",
    "wIdx = 0\n",
    "with open('RAW_interactions_textProc.csv', mode='r', encoding='utf-8') as fr:\n",
    "    reader = csv.DictReader(fr)\n",
    "    for row in reader:\n",
    "        words = row['review'].split()\n",
    "        for word in words:\n",
    "            if word not in stemWords:\n",
    "                stemWords[word] = [wIdx, 1]\n",
    "                wIdx += 1\n",
    "            else:\n",
    "                stemWords[word][1] += 1"
   ]
  },
  {
   "cell_type": "code",
   "execution_count": 23,
   "id": "38e15c6f-91af-497e-92fd-09cb241489aa",
   "metadata": {},
   "outputs": [],
   "source": [
    "# Sort and Save Stem Word Statistics - Interactions\n",
    "sorted_stemWords = sorted(stemWords.items(), key=lambda x: x[1][1], reverse=True)\n",
    "\n",
    "with open('Stat_interaction_stemword.csv', mode='w', encoding='utf-8', newline='') as fw:\n",
    "    fieldnames = ['word', 'word_id', 'frequency']\n",
    "    writer = csv.DictWriter(fw, fieldnames=fieldnames)\n",
    "    writer.writeheader()\n",
    "    for word, values in sorted_stemWords:\n",
    "        writer.writerow({'word': word, 'word_id': values[0], 'frequency': values[1]})"
   ]
  },
  {
   "cell_type": "code",
   "execution_count": null,
   "id": "bbd44674-898e-44ca-88aa-0ec0aebc08ca",
   "metadata": {},
   "outputs": [],
   "source": []
  }
 ],
 "metadata": {
  "kernelspec": {
   "display_name": "Python 3 (ipykernel)",
   "language": "python",
   "name": "python3"
  },
  "language_info": {
   "codemirror_mode": {
    "name": "ipython",
    "version": 3
   },
   "file_extension": ".py",
   "mimetype": "text/x-python",
   "name": "python",
   "nbconvert_exporter": "python",
   "pygments_lexer": "ipython3",
   "version": "3.10.15"
  }
 },
 "nbformat": 4,
 "nbformat_minor": 5
}
