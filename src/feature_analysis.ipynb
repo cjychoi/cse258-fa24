{
 "cells": [
  {
   "cell_type": "code",
   "execution_count": 226,
   "id": "060ee47f-6d0e-4be6-98b8-4d41a2374db8",
   "metadata": {},
   "outputs": [],
   "source": [
    "import gzip\n",
    "import csv\n",
    "from collections import defaultdict\n",
    "import math\n",
    "import scipy.optimize\n",
    "from sklearn import svm\n",
    "import numpy\n",
    "import string\n",
    "import random\n",
    "import string\n",
    "from sklearn import linear_model\n",
    "from sklearn.metrics import mean_squared_error, mean_absolute_error\n",
    "from sklearn.metrics import r2_score"
   ]
  },
  {
   "cell_type": "code",
   "execution_count": 48,
   "id": "14882f97-4bd9-41ac-8321-4f1b8bc5c082",
   "metadata": {},
   "outputs": [],
   "source": [
    "def gen_recipe_info():\n",
    "    rInfo = {}\n",
    "    fileName = 'RAW_recipes_textProc_VecTag(th=5)_VecIng(th=500).csv'\n",
    "    with open(fileName, mode='r', encoding='utf-8') as fr:\n",
    "        reader = csv.DictReader(fr)\n",
    "        for row in reader:\n",
    "            recipeId = row['id']\n",
    "            recipeInfo = [row['name'], row['minutes'], row['tags'], row['nutrition'], row['n_steps'], \\\n",
    "                          row['description'], row['ingredients'], row['n_ingredients']]\n",
    "            rInfo[recipeId] = recipeInfo\n",
    "    return rInfo"
   ]
  },
  {
   "cell_type": "code",
   "execution_count": 166,
   "id": "b73fb9b0-4644-4b15-a6ed-d38307e9719d",
   "metadata": {},
   "outputs": [],
   "source": [
    "def remove_chars(str):\n",
    "    removeChars = \" '\\\"\\\\[]'\"\n",
    "    return ''.join(ch for ch in str if ch not in removeChars)"
   ]
  },
  {
   "cell_type": "code",
   "execution_count": 50,
   "id": "38bbbc62-937f-4055-b453-8c827bb906fa",
   "metadata": {},
   "outputs": [],
   "source": [
    "# [0]: name, [1]: minutes, [2]: tags, [3]: nutrition, [4]: n_steps, [5]: description, [6]: ingredients, [7]: n_ingredients\n",
    "rInfo = gen_recipe_info()"
   ]
  },
  {
   "cell_type": "code",
   "execution_count": 56,
   "id": "3e73315f-b59b-450f-a2fc-52573887bbe6",
   "metadata": {},
   "outputs": [],
   "source": [
    "allRatings = []\n",
    "with open('RAW_interactions_textProc.csv', mode='r', encoding='utf-8') as fr:\n",
    "    reader = csv.DictReader(fr)\n",
    "    for row in reader:\n",
    "        allRatings.append(row)"
   ]
  },
  {
   "cell_type": "code",
   "execution_count": 132,
   "id": "ad1ee62b-ac0e-415f-802d-d5b197c4e5d2",
   "metadata": {},
   "outputs": [],
   "source": [
    "with open('RAW_interactions_textProc.csv', mode='r', encoding='utf-8') as fr, \\\n",
    "    open('RAW_interactions_textProc_training.csv', mode='w', encoding='utf-8', newline='') as fw_tr, \\\n",
    "    open('RAW_interactions_textProc_valid.csv', mode='w', encoding='utf-8', newline='') as fw_va, \\\n",
    "    open('RAW_interactions_textProc_test.csv', mode='w', encoding='utf-8', newline='') as fw_te:\n",
    "        reader = csv.DictReader(fr)\n",
    "        writer1 = csv.DictWriter(fw_tr, fieldnames=reader.fieldnames)\n",
    "        writer1.writeheader()\n",
    "        writer2 = csv.DictWriter(fw_va, fieldnames=reader.fieldnames)\n",
    "        writer2.writeheader()\n",
    "        writer3 = csv.DictWriter(fw_te, fieldnames=reader.fieldnames)\n",
    "        writer3.writeheader()\n",
    "        cnt = 0\n",
    "        for row in reader:\n",
    "            if cnt < 960000:\n",
    "                writer1.writerow(row)\n",
    "                cnt += 1\n",
    "            elif cnt < 1045000:\n",
    "                writer2.writerow(row)\n",
    "                cnt += 1\n",
    "            else:\n",
    "                writer3.writerow(row)"
   ]
  },
  {
   "cell_type": "code",
   "execution_count": 60,
   "id": "f1317ffa-903f-4dcb-9361-a318eaeb7b6b",
   "metadata": {},
   "outputs": [
    {
     "data": {
      "text/plain": [
       "1132367"
      ]
     },
     "execution_count": 60,
     "metadata": {},
     "output_type": "execute_result"
    }
   ],
   "source": [
    "len(allRatings)"
   ]
  },
  {
   "cell_type": "code",
   "execution_count": 110,
   "id": "59b12b96-6c6c-4e44-a812-15b4a163b354",
   "metadata": {},
   "outputs": [],
   "source": [
    "ratingsTrain = allRatings[:960000]\n",
    "ratingsValid = allRatings[960000:1045000]\n",
    "ratingsTest = allRatings[1045000:]"
   ]
  },
  {
   "cell_type": "code",
   "execution_count": 216,
   "id": "78270009-5a12-433d-9ea9-03c3c139ee4e",
   "metadata": {},
   "outputs": [
    {
     "name": "stdout",
     "output_type": "stream",
     "text": [
      "[0.00000000e+00 1.51987753e-10]\n",
      "4.409906022277868\n"
     ]
    }
   ],
   "source": [
    "# 1. Minutes\n",
    "X1 = [[1, int(rInfo[d['recipe_id']][1])] for d in ratingsTrain]\n",
    "Y1 = [int(d['rating']) for d in ratingsTrain]\n",
    "q1_model = linear_model.LinearRegression()\n",
    "q1_model.fit(X1, Y1)\n",
    "print(q1_model.coef_)\n",
    "print(q1_model.intercept_)"
   ]
  },
  {
   "cell_type": "code",
   "execution_count": 236,
   "id": "1fbdadc8-8abc-4361-970d-f22ec370c792",
   "metadata": {},
   "outputs": [],
   "source": [
    "Y1_predict = q1_model.predict(X1)\n",
    "mse1 = mean_squared_error(Y1, Y1_predict)\n",
    "mae1 = mean_absolute_error(Y1, Y1_predict)\n",
    "r2_1 = r2_score(Y1, Y1_predict)"
   ]
  },
  {
   "cell_type": "code",
   "execution_count": 238,
   "id": "5757562a-adcb-4d31-ab4d-97ce558da9d3",
   "metadata": {},
   "outputs": [
    {
     "name": "stdout",
     "output_type": "stream",
     "text": [
      "[0.00000000e+00 1.51987753e-10]\n",
      "4.409906022277868\n"
     ]
    }
   ],
   "source": [
    "print(q1_model.coef_)\n",
    "print(q1_model.intercept_)"
   ]
  },
  {
   "cell_type": "code",
   "execution_count": 232,
   "id": "dfe29b0a-bc8a-429e-9ac3-b943b7f10c01",
   "metadata": {},
   "outputs": [
    {
     "name": "stdout",
     "output_type": "stream",
     "text": [
      "1.6036571339551189 0.8505602587076813 1.3147360585774592e-06\n"
     ]
    }
   ],
   "source": [
    "print(mse1, mae1, r2_1)"
   ]
  },
  {
   "cell_type": "code",
   "execution_count": 172,
   "id": "85d8ef42-d4b4-4f3f-adad-8f3c41872b5b",
   "metadata": {},
   "outputs": [
    {
     "data": {
      "text/plain": [
       "['173.4', '18.0', '0.0', '17.0', '22.0', '35.0', '1.0']"
      ]
     },
     "execution_count": 172,
     "metadata": {},
     "output_type": "execute_result"
    }
   ],
   "source": [
    "remove_chars(rInfo['1'][3]).split(',')"
   ]
  },
  {
   "cell_type": "code",
   "execution_count": 190,
   "id": "6e200f95-767e-4fbc-adf4-c6d04b6b3dff",
   "metadata": {},
   "outputs": [],
   "source": [
    "# 2-1. Nutrition rInfo[id][3](calories, ?, ?, ?, ?, ?, ?)"
   ]
  },
  {
   "cell_type": "code",
   "execution_count": 250,
   "id": "b8e0278b-9264-403a-94f1-8e6c631d958a",
   "metadata": {},
   "outputs": [],
   "source": [
    "X2 = [\n",
    "    [1] + list(map(float, remove_chars(rInfo[d['recipe_id']][3]).split(',')))\n",
    "    for d in ratingsTrain\n",
    "]\n",
    "Y2 = [int(d['rating']) for d in ratingsTrain]"
   ]
  },
  {
   "cell_type": "code",
   "execution_count": 252,
   "id": "0cbc25b9-4cac-4f89-bd8b-6e162e3e0f9a",
   "metadata": {},
   "outputs": [
    {
     "data": {
      "text/html": [
       "<style>#sk-container-id-5 {\n",
       "  /* Definition of color scheme common for light and dark mode */\n",
       "  --sklearn-color-text: black;\n",
       "  --sklearn-color-line: gray;\n",
       "  /* Definition of color scheme for unfitted estimators */\n",
       "  --sklearn-color-unfitted-level-0: #fff5e6;\n",
       "  --sklearn-color-unfitted-level-1: #f6e4d2;\n",
       "  --sklearn-color-unfitted-level-2: #ffe0b3;\n",
       "  --sklearn-color-unfitted-level-3: chocolate;\n",
       "  /* Definition of color scheme for fitted estimators */\n",
       "  --sklearn-color-fitted-level-0: #f0f8ff;\n",
       "  --sklearn-color-fitted-level-1: #d4ebff;\n",
       "  --sklearn-color-fitted-level-2: #b3dbfd;\n",
       "  --sklearn-color-fitted-level-3: cornflowerblue;\n",
       "\n",
       "  /* Specific color for light theme */\n",
       "  --sklearn-color-text-on-default-background: var(--sg-text-color, var(--theme-code-foreground, var(--jp-content-font-color1, black)));\n",
       "  --sklearn-color-background: var(--sg-background-color, var(--theme-background, var(--jp-layout-color0, white)));\n",
       "  --sklearn-color-border-box: var(--sg-text-color, var(--theme-code-foreground, var(--jp-content-font-color1, black)));\n",
       "  --sklearn-color-icon: #696969;\n",
       "\n",
       "  @media (prefers-color-scheme: dark) {\n",
       "    /* Redefinition of color scheme for dark theme */\n",
       "    --sklearn-color-text-on-default-background: var(--sg-text-color, var(--theme-code-foreground, var(--jp-content-font-color1, white)));\n",
       "    --sklearn-color-background: var(--sg-background-color, var(--theme-background, var(--jp-layout-color0, #111)));\n",
       "    --sklearn-color-border-box: var(--sg-text-color, var(--theme-code-foreground, var(--jp-content-font-color1, white)));\n",
       "    --sklearn-color-icon: #878787;\n",
       "  }\n",
       "}\n",
       "\n",
       "#sk-container-id-5 {\n",
       "  color: var(--sklearn-color-text);\n",
       "}\n",
       "\n",
       "#sk-container-id-5 pre {\n",
       "  padding: 0;\n",
       "}\n",
       "\n",
       "#sk-container-id-5 input.sk-hidden--visually {\n",
       "  border: 0;\n",
       "  clip: rect(1px 1px 1px 1px);\n",
       "  clip: rect(1px, 1px, 1px, 1px);\n",
       "  height: 1px;\n",
       "  margin: -1px;\n",
       "  overflow: hidden;\n",
       "  padding: 0;\n",
       "  position: absolute;\n",
       "  width: 1px;\n",
       "}\n",
       "\n",
       "#sk-container-id-5 div.sk-dashed-wrapped {\n",
       "  border: 1px dashed var(--sklearn-color-line);\n",
       "  margin: 0 0.4em 0.5em 0.4em;\n",
       "  box-sizing: border-box;\n",
       "  padding-bottom: 0.4em;\n",
       "  background-color: var(--sklearn-color-background);\n",
       "}\n",
       "\n",
       "#sk-container-id-5 div.sk-container {\n",
       "  /* jupyter's `normalize.less` sets `[hidden] { display: none; }`\n",
       "     but bootstrap.min.css set `[hidden] { display: none !important; }`\n",
       "     so we also need the `!important` here to be able to override the\n",
       "     default hidden behavior on the sphinx rendered scikit-learn.org.\n",
       "     See: https://github.com/scikit-learn/scikit-learn/issues/21755 */\n",
       "  display: inline-block !important;\n",
       "  position: relative;\n",
       "}\n",
       "\n",
       "#sk-container-id-5 div.sk-text-repr-fallback {\n",
       "  display: none;\n",
       "}\n",
       "\n",
       "div.sk-parallel-item,\n",
       "div.sk-serial,\n",
       "div.sk-item {\n",
       "  /* draw centered vertical line to link estimators */\n",
       "  background-image: linear-gradient(var(--sklearn-color-text-on-default-background), var(--sklearn-color-text-on-default-background));\n",
       "  background-size: 2px 100%;\n",
       "  background-repeat: no-repeat;\n",
       "  background-position: center center;\n",
       "}\n",
       "\n",
       "/* Parallel-specific style estimator block */\n",
       "\n",
       "#sk-container-id-5 div.sk-parallel-item::after {\n",
       "  content: \"\";\n",
       "  width: 100%;\n",
       "  border-bottom: 2px solid var(--sklearn-color-text-on-default-background);\n",
       "  flex-grow: 1;\n",
       "}\n",
       "\n",
       "#sk-container-id-5 div.sk-parallel {\n",
       "  display: flex;\n",
       "  align-items: stretch;\n",
       "  justify-content: center;\n",
       "  background-color: var(--sklearn-color-background);\n",
       "  position: relative;\n",
       "}\n",
       "\n",
       "#sk-container-id-5 div.sk-parallel-item {\n",
       "  display: flex;\n",
       "  flex-direction: column;\n",
       "}\n",
       "\n",
       "#sk-container-id-5 div.sk-parallel-item:first-child::after {\n",
       "  align-self: flex-end;\n",
       "  width: 50%;\n",
       "}\n",
       "\n",
       "#sk-container-id-5 div.sk-parallel-item:last-child::after {\n",
       "  align-self: flex-start;\n",
       "  width: 50%;\n",
       "}\n",
       "\n",
       "#sk-container-id-5 div.sk-parallel-item:only-child::after {\n",
       "  width: 0;\n",
       "}\n",
       "\n",
       "/* Serial-specific style estimator block */\n",
       "\n",
       "#sk-container-id-5 div.sk-serial {\n",
       "  display: flex;\n",
       "  flex-direction: column;\n",
       "  align-items: center;\n",
       "  background-color: var(--sklearn-color-background);\n",
       "  padding-right: 1em;\n",
       "  padding-left: 1em;\n",
       "}\n",
       "\n",
       "\n",
       "/* Toggleable style: style used for estimator/Pipeline/ColumnTransformer box that is\n",
       "clickable and can be expanded/collapsed.\n",
       "- Pipeline and ColumnTransformer use this feature and define the default style\n",
       "- Estimators will overwrite some part of the style using the `sk-estimator` class\n",
       "*/\n",
       "\n",
       "/* Pipeline and ColumnTransformer style (default) */\n",
       "\n",
       "#sk-container-id-5 div.sk-toggleable {\n",
       "  /* Default theme specific background. It is overwritten whether we have a\n",
       "  specific estimator or a Pipeline/ColumnTransformer */\n",
       "  background-color: var(--sklearn-color-background);\n",
       "}\n",
       "\n",
       "/* Toggleable label */\n",
       "#sk-container-id-5 label.sk-toggleable__label {\n",
       "  cursor: pointer;\n",
       "  display: block;\n",
       "  width: 100%;\n",
       "  margin-bottom: 0;\n",
       "  padding: 0.5em;\n",
       "  box-sizing: border-box;\n",
       "  text-align: center;\n",
       "}\n",
       "\n",
       "#sk-container-id-5 label.sk-toggleable__label-arrow:before {\n",
       "  /* Arrow on the left of the label */\n",
       "  content: \"▸\";\n",
       "  float: left;\n",
       "  margin-right: 0.25em;\n",
       "  color: var(--sklearn-color-icon);\n",
       "}\n",
       "\n",
       "#sk-container-id-5 label.sk-toggleable__label-arrow:hover:before {\n",
       "  color: var(--sklearn-color-text);\n",
       "}\n",
       "\n",
       "/* Toggleable content - dropdown */\n",
       "\n",
       "#sk-container-id-5 div.sk-toggleable__content {\n",
       "  max-height: 0;\n",
       "  max-width: 0;\n",
       "  overflow: hidden;\n",
       "  text-align: left;\n",
       "  /* unfitted */\n",
       "  background-color: var(--sklearn-color-unfitted-level-0);\n",
       "}\n",
       "\n",
       "#sk-container-id-5 div.sk-toggleable__content.fitted {\n",
       "  /* fitted */\n",
       "  background-color: var(--sklearn-color-fitted-level-0);\n",
       "}\n",
       "\n",
       "#sk-container-id-5 div.sk-toggleable__content pre {\n",
       "  margin: 0.2em;\n",
       "  border-radius: 0.25em;\n",
       "  color: var(--sklearn-color-text);\n",
       "  /* unfitted */\n",
       "  background-color: var(--sklearn-color-unfitted-level-0);\n",
       "}\n",
       "\n",
       "#sk-container-id-5 div.sk-toggleable__content.fitted pre {\n",
       "  /* unfitted */\n",
       "  background-color: var(--sklearn-color-fitted-level-0);\n",
       "}\n",
       "\n",
       "#sk-container-id-5 input.sk-toggleable__control:checked~div.sk-toggleable__content {\n",
       "  /* Expand drop-down */\n",
       "  max-height: 200px;\n",
       "  max-width: 100%;\n",
       "  overflow: auto;\n",
       "}\n",
       "\n",
       "#sk-container-id-5 input.sk-toggleable__control:checked~label.sk-toggleable__label-arrow:before {\n",
       "  content: \"▾\";\n",
       "}\n",
       "\n",
       "/* Pipeline/ColumnTransformer-specific style */\n",
       "\n",
       "#sk-container-id-5 div.sk-label input.sk-toggleable__control:checked~label.sk-toggleable__label {\n",
       "  color: var(--sklearn-color-text);\n",
       "  background-color: var(--sklearn-color-unfitted-level-2);\n",
       "}\n",
       "\n",
       "#sk-container-id-5 div.sk-label.fitted input.sk-toggleable__control:checked~label.sk-toggleable__label {\n",
       "  background-color: var(--sklearn-color-fitted-level-2);\n",
       "}\n",
       "\n",
       "/* Estimator-specific style */\n",
       "\n",
       "/* Colorize estimator box */\n",
       "#sk-container-id-5 div.sk-estimator input.sk-toggleable__control:checked~label.sk-toggleable__label {\n",
       "  /* unfitted */\n",
       "  background-color: var(--sklearn-color-unfitted-level-2);\n",
       "}\n",
       "\n",
       "#sk-container-id-5 div.sk-estimator.fitted input.sk-toggleable__control:checked~label.sk-toggleable__label {\n",
       "  /* fitted */\n",
       "  background-color: var(--sklearn-color-fitted-level-2);\n",
       "}\n",
       "\n",
       "#sk-container-id-5 div.sk-label label.sk-toggleable__label,\n",
       "#sk-container-id-5 div.sk-label label {\n",
       "  /* The background is the default theme color */\n",
       "  color: var(--sklearn-color-text-on-default-background);\n",
       "}\n",
       "\n",
       "/* On hover, darken the color of the background */\n",
       "#sk-container-id-5 div.sk-label:hover label.sk-toggleable__label {\n",
       "  color: var(--sklearn-color-text);\n",
       "  background-color: var(--sklearn-color-unfitted-level-2);\n",
       "}\n",
       "\n",
       "/* Label box, darken color on hover, fitted */\n",
       "#sk-container-id-5 div.sk-label.fitted:hover label.sk-toggleable__label.fitted {\n",
       "  color: var(--sklearn-color-text);\n",
       "  background-color: var(--sklearn-color-fitted-level-2);\n",
       "}\n",
       "\n",
       "/* Estimator label */\n",
       "\n",
       "#sk-container-id-5 div.sk-label label {\n",
       "  font-family: monospace;\n",
       "  font-weight: bold;\n",
       "  display: inline-block;\n",
       "  line-height: 1.2em;\n",
       "}\n",
       "\n",
       "#sk-container-id-5 div.sk-label-container {\n",
       "  text-align: center;\n",
       "}\n",
       "\n",
       "/* Estimator-specific */\n",
       "#sk-container-id-5 div.sk-estimator {\n",
       "  font-family: monospace;\n",
       "  border: 1px dotted var(--sklearn-color-border-box);\n",
       "  border-radius: 0.25em;\n",
       "  box-sizing: border-box;\n",
       "  margin-bottom: 0.5em;\n",
       "  /* unfitted */\n",
       "  background-color: var(--sklearn-color-unfitted-level-0);\n",
       "}\n",
       "\n",
       "#sk-container-id-5 div.sk-estimator.fitted {\n",
       "  /* fitted */\n",
       "  background-color: var(--sklearn-color-fitted-level-0);\n",
       "}\n",
       "\n",
       "/* on hover */\n",
       "#sk-container-id-5 div.sk-estimator:hover {\n",
       "  /* unfitted */\n",
       "  background-color: var(--sklearn-color-unfitted-level-2);\n",
       "}\n",
       "\n",
       "#sk-container-id-5 div.sk-estimator.fitted:hover {\n",
       "  /* fitted */\n",
       "  background-color: var(--sklearn-color-fitted-level-2);\n",
       "}\n",
       "\n",
       "/* Specification for estimator info (e.g. \"i\" and \"?\") */\n",
       "\n",
       "/* Common style for \"i\" and \"?\" */\n",
       "\n",
       ".sk-estimator-doc-link,\n",
       "a:link.sk-estimator-doc-link,\n",
       "a:visited.sk-estimator-doc-link {\n",
       "  float: right;\n",
       "  font-size: smaller;\n",
       "  line-height: 1em;\n",
       "  font-family: monospace;\n",
       "  background-color: var(--sklearn-color-background);\n",
       "  border-radius: 1em;\n",
       "  height: 1em;\n",
       "  width: 1em;\n",
       "  text-decoration: none !important;\n",
       "  margin-left: 1ex;\n",
       "  /* unfitted */\n",
       "  border: var(--sklearn-color-unfitted-level-1) 1pt solid;\n",
       "  color: var(--sklearn-color-unfitted-level-1);\n",
       "}\n",
       "\n",
       ".sk-estimator-doc-link.fitted,\n",
       "a:link.sk-estimator-doc-link.fitted,\n",
       "a:visited.sk-estimator-doc-link.fitted {\n",
       "  /* fitted */\n",
       "  border: var(--sklearn-color-fitted-level-1) 1pt solid;\n",
       "  color: var(--sklearn-color-fitted-level-1);\n",
       "}\n",
       "\n",
       "/* On hover */\n",
       "div.sk-estimator:hover .sk-estimator-doc-link:hover,\n",
       ".sk-estimator-doc-link:hover,\n",
       "div.sk-label-container:hover .sk-estimator-doc-link:hover,\n",
       ".sk-estimator-doc-link:hover {\n",
       "  /* unfitted */\n",
       "  background-color: var(--sklearn-color-unfitted-level-3);\n",
       "  color: var(--sklearn-color-background);\n",
       "  text-decoration: none;\n",
       "}\n",
       "\n",
       "div.sk-estimator.fitted:hover .sk-estimator-doc-link.fitted:hover,\n",
       ".sk-estimator-doc-link.fitted:hover,\n",
       "div.sk-label-container:hover .sk-estimator-doc-link.fitted:hover,\n",
       ".sk-estimator-doc-link.fitted:hover {\n",
       "  /* fitted */\n",
       "  background-color: var(--sklearn-color-fitted-level-3);\n",
       "  color: var(--sklearn-color-background);\n",
       "  text-decoration: none;\n",
       "}\n",
       "\n",
       "/* Span, style for the box shown on hovering the info icon */\n",
       ".sk-estimator-doc-link span {\n",
       "  display: none;\n",
       "  z-index: 9999;\n",
       "  position: relative;\n",
       "  font-weight: normal;\n",
       "  right: .2ex;\n",
       "  padding: .5ex;\n",
       "  margin: .5ex;\n",
       "  width: min-content;\n",
       "  min-width: 20ex;\n",
       "  max-width: 50ex;\n",
       "  color: var(--sklearn-color-text);\n",
       "  box-shadow: 2pt 2pt 4pt #999;\n",
       "  /* unfitted */\n",
       "  background: var(--sklearn-color-unfitted-level-0);\n",
       "  border: .5pt solid var(--sklearn-color-unfitted-level-3);\n",
       "}\n",
       "\n",
       ".sk-estimator-doc-link.fitted span {\n",
       "  /* fitted */\n",
       "  background: var(--sklearn-color-fitted-level-0);\n",
       "  border: var(--sklearn-color-fitted-level-3);\n",
       "}\n",
       "\n",
       ".sk-estimator-doc-link:hover span {\n",
       "  display: block;\n",
       "}\n",
       "\n",
       "/* \"?\"-specific style due to the `<a>` HTML tag */\n",
       "\n",
       "#sk-container-id-5 a.estimator_doc_link {\n",
       "  float: right;\n",
       "  font-size: 1rem;\n",
       "  line-height: 1em;\n",
       "  font-family: monospace;\n",
       "  background-color: var(--sklearn-color-background);\n",
       "  border-radius: 1rem;\n",
       "  height: 1rem;\n",
       "  width: 1rem;\n",
       "  text-decoration: none;\n",
       "  /* unfitted */\n",
       "  color: var(--sklearn-color-unfitted-level-1);\n",
       "  border: var(--sklearn-color-unfitted-level-1) 1pt solid;\n",
       "}\n",
       "\n",
       "#sk-container-id-5 a.estimator_doc_link.fitted {\n",
       "  /* fitted */\n",
       "  border: var(--sklearn-color-fitted-level-1) 1pt solid;\n",
       "  color: var(--sklearn-color-fitted-level-1);\n",
       "}\n",
       "\n",
       "/* On hover */\n",
       "#sk-container-id-5 a.estimator_doc_link:hover {\n",
       "  /* unfitted */\n",
       "  background-color: var(--sklearn-color-unfitted-level-3);\n",
       "  color: var(--sklearn-color-background);\n",
       "  text-decoration: none;\n",
       "}\n",
       "\n",
       "#sk-container-id-5 a.estimator_doc_link.fitted:hover {\n",
       "  /* fitted */\n",
       "  background-color: var(--sklearn-color-fitted-level-3);\n",
       "}\n",
       "</style><div id=\"sk-container-id-5\" class=\"sk-top-container\"><div class=\"sk-text-repr-fallback\"><pre>LinearRegression()</pre><b>In a Jupyter environment, please rerun this cell to show the HTML representation or trust the notebook. <br />On GitHub, the HTML representation is unable to render, please try loading this page with nbviewer.org.</b></div><div class=\"sk-container\" hidden><div class=\"sk-item\"><div class=\"sk-estimator fitted sk-toggleable\"><input class=\"sk-toggleable__control sk-hidden--visually\" id=\"sk-estimator-id-5\" type=\"checkbox\" checked><label for=\"sk-estimator-id-5\" class=\"sk-toggleable__label fitted sk-toggleable__label-arrow fitted\">&nbsp;&nbsp;LinearRegression<a class=\"sk-estimator-doc-link fitted\" rel=\"noreferrer\" target=\"_blank\" href=\"https://scikit-learn.org/1.4/modules/generated/sklearn.linear_model.LinearRegression.html\">?<span>Documentation for LinearRegression</span></a><span class=\"sk-estimator-doc-link fitted\">i<span>Fitted</span></span></label><div class=\"sk-toggleable__content fitted\"><pre>LinearRegression()</pre></div> </div></div></div></div>"
      ],
      "text/plain": [
       "LinearRegression()"
      ]
     },
     "execution_count": 252,
     "metadata": {},
     "output_type": "execute_result"
    }
   ],
   "source": [
    "q2_model = linear_model.LinearRegression()\n",
    "q2_model.fit(X2, Y2)"
   ]
  },
  {
   "cell_type": "code",
   "execution_count": 254,
   "id": "f3753509-e09e-4555-afcd-97b96e4f0891",
   "metadata": {},
   "outputs": [],
   "source": [
    "Y2_predict = q2_model.predict(X2)\n",
    "mse2 = mean_squared_error(Y2, Y2_predict)\n",
    "mae2 = mean_absolute_error(Y2, Y2_predict)\n",
    "r2_2 = r2_score(Y2, Y2_predict)"
   ]
  },
  {
   "cell_type": "code",
   "execution_count": 256,
   "id": "d74b9544-1a80-471c-92a0-4fd03628af31",
   "metadata": {},
   "outputs": [
    {
     "name": "stdout",
     "output_type": "stream",
     "text": [
      "[ 0.00000000e+00 -1.28746570e-05  1.82581182e-04  4.91643016e-05\n",
      " -1.26615039e-05  8.87159843e-06 -8.80744964e-05 -5.37975720e-04]\n",
      "4.417661130959591\n"
     ]
    }
   ],
   "source": [
    "print(q2_model.coef_)\n",
    "print(q2_model.intercept_)"
   ]
  },
  {
   "cell_type": "code",
   "execution_count": 258,
   "id": "4704bbf5-cc4e-40d4-870a-a7ca46f4441e",
   "metadata": {},
   "outputs": [
    {
     "name": "stdout",
     "output_type": "stream",
     "text": [
      "1.603316745954154 0.8504751741624994 0.00021357179914116564\n"
     ]
    }
   ],
   "source": [
    "print(mse2, mae2, r2_2)"
   ]
  },
  {
   "cell_type": "code",
   "execution_count": 260,
   "id": "288f09a0-d9ab-4f99-9d6f-ba48c3e9caf4",
   "metadata": {},
   "outputs": [],
   "source": [
    "# nutrition[0] only\n",
    "X2_0 = [\n",
    "    [1, float(remove_chars(rInfo[d['recipe_id']][3]).split(',')[0])]\n",
    "    for d in ratingsTrain\n",
    "]"
   ]
  },
  {
   "cell_type": "code",
   "execution_count": 262,
   "id": "be932959-4df5-46f7-9719-68a778b4a274",
   "metadata": {},
   "outputs": [
    {
     "name": "stdout",
     "output_type": "stream",
     "text": [
      "[ 0.00000000e+00 -1.43140206e-05]\n",
      "4.416523717116527\n"
     ]
    }
   ],
   "source": [
    "q2_0_model = linear_model.LinearRegression()\n",
    "q2_0_model.fit(X2_0, Y2)\n",
    "print(q2_0_model.coef_)\n",
    "print(q2_0_model.intercept_)"
   ]
  },
  {
   "cell_type": "code",
   "execution_count": 270,
   "id": "e83d29e1-74ed-4c2a-8870-dc13cb336ed1",
   "metadata": {},
   "outputs": [
    {
     "name": "stdout",
     "output_type": "stream",
     "text": [
      "1.6034179642361324 0.8505619989612618 0.00015045472332730903\n"
     ]
    }
   ],
   "source": [
    "Y2_predict = q2_0_model.predict(X2_0)\n",
    "mse2 = mean_squared_error(Y2, Y2_predict)\n",
    "mae2 = mean_absolute_error(Y2, Y2_predict)\n",
    "r2_2 = r2_score(Y2, Y2_predict)\n",
    "print(mse2, mae2, r2_2)"
   ]
  },
  {
   "cell_type": "code",
   "execution_count": 274,
   "id": "e8b71bc4-5b2b-4792-8fcb-20fe50b8eda0",
   "metadata": {},
   "outputs": [
    {
     "name": "stdout",
     "output_type": "stream",
     "text": [
      "[ 0.000000e+00 -8.489012e-05]\n",
      "4.4128638038823205\n"
     ]
    }
   ],
   "source": [
    "# nutrition[1] only\n",
    "X2_1 = [\n",
    "    [1, float(remove_chars(rInfo[d['recipe_id']][3]).split(',')[1])]\n",
    "    for d in ratingsTrain\n",
    "]\n",
    "q2_1_model = linear_model.LinearRegression()\n",
    "q2_1_model.fit(X2_1, Y2)\n",
    "print(q2_1_model.coef_)\n",
    "print(q2_1_model.intercept_)"
   ]
  },
  {
   "cell_type": "code",
   "execution_count": 276,
   "id": "a5b73bcf-2df2-4d5d-9a7b-5a96e747e721",
   "metadata": {},
   "outputs": [
    {
     "name": "stdout",
     "output_type": "stream",
     "text": [
      "1.6036189238677374 0.8505964884640874 2.5141548122276092e-05\n"
     ]
    }
   ],
   "source": [
    "Y2_predict = q2_1_model.predict(X2_1)\n",
    "mse2 = mean_squared_error(Y2, Y2_predict)\n",
    "mae2 = mean_absolute_error(Y2, Y2_predict)\n",
    "r2_2 = r2_score(Y2, Y2_predict)\n",
    "print(mse2, mae2, r2_2)"
   ]
  },
  {
   "cell_type": "code",
   "execution_count": 278,
   "id": "cda75493-9844-45af-907f-b05c0c797525",
   "metadata": {},
   "outputs": [
    {
     "name": "stdout",
     "output_type": "stream",
     "text": [
      "[ 0.00000000e+00 -2.02887575e-05]\n",
      "4.411523869533387\n"
     ]
    }
   ],
   "source": [
    "# nutrition[2] only\n",
    "X2_2 = [\n",
    "    [1, float(remove_chars(rInfo[d['recipe_id']][3]).split(',')[2])]\n",
    "    for d in ratingsTrain\n",
    "]\n",
    "q2_2_model = linear_model.LinearRegression()\n",
    "q2_2_model.fit(X2_2, Y2)\n",
    "print(q2_2_model.coef_)\n",
    "print(q2_2_model.intercept_)"
   ]
  },
  {
   "cell_type": "code",
   "execution_count": 280,
   "id": "9d6a2dbb-0613-4e06-a50e-cd531cf4abc9",
   "metadata": {},
   "outputs": [
    {
     "name": "stdout",
     "output_type": "stream",
     "text": [
      "1.6034670318966364 0.8505681819269696 0.00011985741237219294\n"
     ]
    }
   ],
   "source": [
    "Y2_predict = q2_2_model.predict(X2_2)\n",
    "mse2 = mean_squared_error(Y2, Y2_predict)\n",
    "mae2 = mean_absolute_error(Y2, Y2_predict)\n",
    "r2_2 = r2_score(Y2, Y2_predict)\n",
    "print(mse2, mae2, r2_2)"
   ]
  },
  {
   "cell_type": "code",
   "execution_count": 286,
   "id": "34086b93-b0e0-488e-ba67-e9ac26a8f4e0",
   "metadata": {},
   "outputs": [
    {
     "name": "stdout",
     "output_type": "stream",
     "text": [
      "[ 0.00000000e+00 -3.89592969e-05]\n",
      "4.411171060727147\n"
     ]
    }
   ],
   "source": [
    "# nutrition[3] only\n",
    "X2_3 = [\n",
    "    [1, float(remove_chars(rInfo[d['recipe_id']][3]).split(',')[3])]\n",
    "    for d in ratingsTrain\n",
    "]\n",
    "q2_3_model = linear_model.LinearRegression()\n",
    "q2_3_model.fit(X2_3, Y2)\n",
    "print(q2_3_model.coef_)\n",
    "print(q2_3_model.intercept_)"
   ]
  },
  {
   "cell_type": "code",
   "execution_count": 287,
   "id": "39be0402-57aa-4b1c-af63-2dc3784efce1",
   "metadata": {},
   "outputs": [
    {
     "name": "stdout",
     "output_type": "stream",
     "text": [
      "1.603635186160851 0.850583703099298 1.5000807069398547e-05\n"
     ]
    }
   ],
   "source": [
    "Y2_predict = q2_3_model.predict(X2_3)\n",
    "mse2 = mean_squared_error(Y2, Y2_predict)\n",
    "mae2 = mean_absolute_error(Y2, Y2_predict)\n",
    "r2_2 = r2_score(Y2, Y2_predict)\n",
    "print(mse2, mae2, r2_2)"
   ]
  },
  {
   "cell_type": "code",
   "execution_count": 290,
   "id": "0cbd440d-a2e9-42f1-b95e-c67194ca1feb",
   "metadata": {},
   "outputs": [
    {
     "name": "stdout",
     "output_type": "stream",
     "text": [
      "[ 0.0000000e+00 -6.9214276e-05]\n",
      "4.412398743988542\n"
     ]
    }
   ],
   "source": [
    "# nutrition[4] only\n",
    "X2_4 = [\n",
    "    [1, float(remove_chars(rInfo[d['recipe_id']][3]).split(',')[4])]\n",
    "    for d in ratingsTrain\n",
    "]\n",
    "q2_4_model = linear_model.LinearRegression()\n",
    "q2_4_model.fit(X2_4, Y2)\n",
    "print(q2_4_model.coef_)\n",
    "print(q2_4_model.intercept_)"
   ]
  },
  {
   "cell_type": "code",
   "execution_count": 292,
   "id": "0db9ac01-092b-4198-a662-83ca0b6b8d7b",
   "metadata": {},
   "outputs": [
    {
     "name": "stdout",
     "output_type": "stream",
     "text": [
      "1.6036298545563723 0.850533876563105 1.8325456307866084e-05\n"
     ]
    }
   ],
   "source": [
    "Y2_predict = q2_4_model.predict(X2_4)\n",
    "mse2 = mean_squared_error(Y2, Y2_predict)\n",
    "mae2 = mean_absolute_error(Y2, Y2_predict)\n",
    "r2_2 = r2_score(Y2, Y2_predict)\n",
    "print(mse2, mae2, r2_2)"
   ]
  },
  {
   "cell_type": "code",
   "execution_count": 294,
   "id": "5ef9d376-7d68-44e8-b184-6ca2aded3e27",
   "metadata": {},
   "outputs": [
    {
     "name": "stdout",
     "output_type": "stream",
     "text": [
      "[ 0.00000000e+00 -7.68902422e-05]\n",
      "4.413321258607433\n"
     ]
    }
   ],
   "source": [
    "# nutrition[5] only\n",
    "X2_5 = [\n",
    "    [1, float(remove_chars(rInfo[d['recipe_id']][3]).split(',')[5])]\n",
    "    for d in ratingsTrain\n",
    "]\n",
    "q2_5_model = linear_model.LinearRegression()\n",
    "q2_5_model.fit(X2_5, Y2)\n",
    "print(q2_5_model.coef_)\n",
    "print(q2_5_model.intercept_)"
   ]
  },
  {
   "cell_type": "code",
   "execution_count": 296,
   "id": "99fb63f2-c895-411d-bda4-77a921c77e38",
   "metadata": {},
   "outputs": [
    {
     "name": "stdout",
     "output_type": "stream",
     "text": [
      "1.6036033345367045 0.8506048407568262 3.486264760610425e-05\n"
     ]
    }
   ],
   "source": [
    "Y2_predict = q2_5_model.predict(X2_5)\n",
    "mse2 = mean_squared_error(Y2, Y2_predict)\n",
    "mae2 = mean_absolute_error(Y2, Y2_predict)\n",
    "r2_2 = r2_score(Y2, Y2_predict)\n",
    "print(mse2, mae2, r2_2)"
   ]
  },
  {
   "cell_type": "code",
   "execution_count": 298,
   "id": "ae1473c5-f03a-4429-8403-77809550751f",
   "metadata": {},
   "outputs": [
    {
     "name": "stdout",
     "output_type": "stream",
     "text": [
      "[ 0.         -0.00022891]\n",
      "4.413341925813723\n"
     ]
    }
   ],
   "source": [
    "# nutrition[6] only\n",
    "X2_6 = [\n",
    "    [1, float(remove_chars(rInfo[d['recipe_id']][3]).split(',')[6])]\n",
    "    for d in ratingsTrain\n",
    "]\n",
    "q2_6_model = linear_model.LinearRegression()\n",
    "q2_6_model.fit(X2_6, Y2)\n",
    "print(q2_6_model.coef_)\n",
    "print(q2_6_model.intercept_)"
   ]
  },
  {
   "cell_type": "code",
   "execution_count": 300,
   "id": "9dfd1a6e-2cbb-4f4b-a3cb-809a3ebe7d1d",
   "metadata": {},
   "outputs": [
    {
     "name": "stdout",
     "output_type": "stream",
     "text": [
      "1.6033997366304895 0.8505378210118469 0.00016182098191996896\n"
     ]
    }
   ],
   "source": [
    "Y2_predict = q2_6_model.predict(X2_6)\n",
    "mse2 = mean_squared_error(Y2, Y2_predict)\n",
    "mae2 = mean_absolute_error(Y2, Y2_predict)\n",
    "r2_2 = r2_score(Y2, Y2_predict)\n",
    "print(mse2, mae2, r2_2)"
   ]
  },
  {
   "cell_type": "code",
   "execution_count": null,
   "id": "fe16b4c0-92a0-42be-bf17-a95373276064",
   "metadata": {},
   "outputs": [],
   "source": []
  }
 ],
 "metadata": {
  "kernelspec": {
   "display_name": "Python 3 (ipykernel)",
   "language": "python",
   "name": "python3"
  },
  "language_info": {
   "codemirror_mode": {
    "name": "ipython",
    "version": 3
   },
   "file_extension": ".py",
   "mimetype": "text/x-python",
   "name": "python",
   "nbconvert_exporter": "python",
   "pygments_lexer": "ipython3",
   "version": "3.10.15"
  }
 },
 "nbformat": 4,
 "nbformat_minor": 5
}
