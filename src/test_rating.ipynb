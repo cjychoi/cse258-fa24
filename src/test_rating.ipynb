{
 "cells": [
  {
   "cell_type": "code",
   "execution_count": 9,
   "id": "4ce05b9c-a1da-432d-8da1-c094fc14a3e8",
   "metadata": {},
   "outputs": [],
   "source": [
    "# Import necessary libraries\n",
    "import pandas as pd\n",
    "import numpy as np\n",
    "from sklearn.model_selection import train_test_split\n",
    "from sklearn.linear_model import LinearRegression\n",
    "from sklearn.metrics import mean_squared_error, mean_absolute_error\n",
    "from sklearn.preprocessing import LabelEncoder\n",
    "\n",
    "# Step 1: Load datasets\n",
    "recipes = pd.read_csv('data/RAW_recipes_textProc_VecTag(th=5)_VecIng(th=500).csv')\n",
    "interactions = pd.read_csv('data/RAW_interactions_textProc.csv')\n",
    "\n",
    "# Step 2: Preprocess and link datasets\n",
    "# Rename `id` column in recipes to match `recipe_id` in interactions\n",
    "recipes = recipes.rename(columns={'id': 'recipe_id'})\n",
    "\n",
    "# Merge recipes and interactions on `recipe_id`\n",
    "data = interactions.merge(recipes, on='recipe_id', how='inner')\n",
    "\n",
    "# Step 3: Encode user_id\n",
    "# Convert user_id into a numeric feature\n",
    "user_encoder = LabelEncoder()\n",
    "data['user_id_encoded'] = user_encoder.fit_transform(data['user_id'])\n",
    "\n",
    "# Step 4: Feature selection\n",
    "# Select features including user_id_encoded, numerical recipe features, and tag/ingredient features\n",
    "feature_columns = ['user_id_encoded', 'minutes', 'n_steps', 'n_ingredients'] + [\n",
    "    col for col in recipes.columns if col.startswith('tag_') or col.startswith('ingredient_')\n",
    "]"
   ]
  },
  {
   "cell_type": "code",
   "execution_count": 10,
   "id": "1e951c27-cbbc-4db1-b983-f686081bb4bc",
   "metadata": {},
   "outputs": [
    {
     "name": "stdout",
     "output_type": "stream",
     "text": [
      "RMSE: 1.2446744983724563\n",
      "MAE: 0.8386457110987992\n"
     ]
    }
   ],
   "source": [
    "# Prepare feature matrix (X) and target variable (y)\n",
    "X = data[feature_columns]\n",
    "y = data['rating']\n",
    "\n",
    "# Step 5: Train-test split\n",
    "X_train, X_test, y_train, y_test = train_test_split(X, y, test_size=0.2, random_state=42)\n",
    "\n",
    "# Step 6: Train a linear regression model\n",
    "model = LinearRegression()\n",
    "model.fit(X_train, y_train)\n",
    "\n",
    "# Step 7: Evaluate the model\n",
    "y_pred = model.predict(X_test)\n",
    "rmse = np.sqrt(mean_squared_error(y_test, y_pred))\n",
    "mae = mean_absolute_error(y_test, y_pred)\n",
    "\n",
    "# Print results\n",
    "print(f\"RMSE: {rmse}\")\n",
    "print(f\"MAE: {mae}\")\n"
   ]
  },
  {
   "cell_type": "code",
   "execution_count": null,
   "id": "402b5add-7ba8-46b0-af6e-d9ac73c0328e",
   "metadata": {},
   "outputs": [],
   "source": []
  }
 ],
 "metadata": {
  "kernelspec": {
   "display_name": "Python 3 (ipykernel)",
   "language": "python",
   "name": "python3"
  },
  "language_info": {
   "codemirror_mode": {
    "name": "ipython",
    "version": 3
   },
   "file_extension": ".py",
   "mimetype": "text/x-python",
   "name": "python",
   "nbconvert_exporter": "python",
   "pygments_lexer": "ipython3",
   "version": "3.11.8"
  }
 },
 "nbformat": 4,
 "nbformat_minor": 5
}
