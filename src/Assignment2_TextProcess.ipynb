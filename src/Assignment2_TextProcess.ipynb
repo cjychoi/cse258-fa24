{
 "cells": [
  {
   "cell_type": "code",
   "execution_count": 1,
   "id": "46e922ed-1b5b-4037-a68b-e58120e3228c",
   "metadata": {},
   "outputs": [],
   "source": [
    "import gzip\n",
    "import math\n",
    "import numpy\n",
    "import random\n",
    "import sklearn\n",
    "import string\n",
    "from collections import defaultdict\n",
    "from nltk.stem.porter import *\n",
    "from sklearn import linear_model\n",
    "from gensim.models import Word2Vec\n",
    "import dateutil\n",
    "from scipy.sparse import lil_matrix"
   ]
  },
  {
   "cell_type": "markdown",
   "id": "e65c1cba-55a1-4399-b1f0-9e28fe42b6ea",
   "metadata": {},
   "source": [
    "# Text Processing: RAW_recipes.CSV #"
   ]
  },
  {
   "cell_type": "code",
   "execution_count": 2,
   "id": "5178114d-1251-4d43-9f9e-4e7b75a57868",
   "metadata": {},
   "outputs": [],
   "source": [
    "import csv\n",
    "import gzip\n",
    "\n",
    "dataset_recipes = []\n",
    "\n",
    "with gzip.open(\"/Users/seonminhwang/Downloads/archive/RAW_recipes.csv.gz\", mode='rt', newline='') as f:\n",
    "    reader = csv.DictReader(f)  # Assuming the file has headers\n",
    "    for row in reader:\n",
    "        dataset_recipes.append(row)\n",
    "        if len(dataset_recipes) >= 20000:\n",
    "            break"
   ]
  },
  {
   "cell_type": "code",
   "execution_count": 3,
   "id": "88c482da-c302-435c-bfad-d14f9fc89a3a",
   "metadata": {},
   "outputs": [
    {
     "data": {
      "text/plain": [
       "20000"
      ]
     },
     "execution_count": 3,
     "metadata": {},
     "output_type": "execute_result"
    }
   ],
   "source": [
    "len(dataset_recipes)"
   ]
  },
  {
   "cell_type": "code",
   "execution_count": 4,
   "id": "081fc9fa-1ed6-4bd3-9a6c-7d7873255f74",
   "metadata": {},
   "outputs": [
    {
     "data": {
      "text/plain": [
       "{'name': 'arriba   baked winter squash mexican style',\n",
       " 'id': '137739',\n",
       " 'minutes': '55',\n",
       " 'contributor_id': '47892',\n",
       " 'submitted': '2005-09-16',\n",
       " 'tags': \"['60-minutes-or-less', 'time-to-make', 'course', 'main-ingredient', 'cuisine', 'preparation', 'occasion', 'north-american', 'side-dishes', 'vegetables', 'mexican', 'easy', 'fall', 'holiday-event', 'vegetarian', 'winter', 'dietary', 'christmas', 'seasonal', 'squash']\",\n",
       " 'nutrition': '[51.5, 0.0, 13.0, 0.0, 2.0, 0.0, 4.0]',\n",
       " 'n_steps': '11',\n",
       " 'steps': \"['make a choice and proceed with recipe', 'depending on size of squash , cut into half or fourths', 'remove seeds', 'for spicy squash , drizzle olive oil or melted butter over each cut squash piece', 'season with mexican seasoning mix ii', 'for sweet squash , drizzle melted honey , butter , grated piloncillo over each cut squash piece', 'season with sweet mexican spice mix', 'bake at 350 degrees , again depending on size , for 40 minutes up to an hour , until a fork can easily pierce the skin', 'be careful not to burn the squash especially if you opt to use sugar or butter', 'if you feel more comfortable , cover the squash with aluminum foil the first half hour , give or take , of baking', 'if desired , season with salt']\",\n",
       " 'description': 'autumn is my favorite time of year to cook! this recipe \\r\\ncan be prepared either spicy or sweet, your choice!\\r\\ntwo of my posted mexican-inspired seasoning mix recipes are offered as suggestions.',\n",
       " 'ingredients': \"['winter squash', 'mexican seasoning', 'mixed spice', 'honey', 'butter', 'olive oil', 'salt']\",\n",
       " 'n_ingredients': '7'}"
      ]
     },
     "execution_count": 4,
     "metadata": {},
     "output_type": "execute_result"
    }
   ],
   "source": [
    "dataset_recipes[0]"
   ]
  },
  {
   "cell_type": "code",
   "execution_count": 6,
   "id": "d9c25f21-029a-4122-b36a-5da080351a68",
   "metadata": {},
   "outputs": [],
   "source": [
    "# Import NLP functions\n",
    "\n",
    "import nltk\n",
    "\n",
    "stop_words = set(nltk.corpus.stopwords.words('english'))\n",
    "wordCount = defaultdict(int)\n",
    "punctuation = set(string.punctuation)\n",
    "stemmer = PorterStemmer()\n",
    "\n",
    "# Define Text-Preprocessing functions\n",
    "\n",
    "def preprocess_text(text):\n",
    "    text = ''.join([c.lower() if not c in punctuation else ' ' for c in text])\n",
    "    tokens = text.split()\n",
    "    tokens = [stemmer.stem(word) for word in tokens if word not in stop_words]\n",
    "    return ' '.join(tokens)\n",
    "\n",
    "for row in dataset_recipes:\n",
    "    row['processed_description'] = preprocess_text(row['description'])\n",
    "    row['processed_steps'] = preprocess_text(row['steps'])"
   ]
  },
  {
   "cell_type": "code",
   "execution_count": 7,
   "id": "4ce4b772-c5db-48b1-b98f-049c45ec0179",
   "metadata": {},
   "outputs": [
    {
     "data": {
      "text/plain": [
       "{'name': 'arriba   baked winter squash mexican style',\n",
       " 'id': '137739',\n",
       " 'minutes': '55',\n",
       " 'contributor_id': '47892',\n",
       " 'submitted': '2005-09-16',\n",
       " 'tags': \"['60-minutes-or-less', 'time-to-make', 'course', 'main-ingredient', 'cuisine', 'preparation', 'occasion', 'north-american', 'side-dishes', 'vegetables', 'mexican', 'easy', 'fall', 'holiday-event', 'vegetarian', 'winter', 'dietary', 'christmas', 'seasonal', 'squash']\",\n",
       " 'nutrition': '[51.5, 0.0, 13.0, 0.0, 2.0, 0.0, 4.0]',\n",
       " 'n_steps': '11',\n",
       " 'steps': \"['make a choice and proceed with recipe', 'depending on size of squash , cut into half or fourths', 'remove seeds', 'for spicy squash , drizzle olive oil or melted butter over each cut squash piece', 'season with mexican seasoning mix ii', 'for sweet squash , drizzle melted honey , butter , grated piloncillo over each cut squash piece', 'season with sweet mexican spice mix', 'bake at 350 degrees , again depending on size , for 40 minutes up to an hour , until a fork can easily pierce the skin', 'be careful not to burn the squash especially if you opt to use sugar or butter', 'if you feel more comfortable , cover the squash with aluminum foil the first half hour , give or take , of baking', 'if desired , season with salt']\",\n",
       " 'description': 'autumn is my favorite time of year to cook! this recipe \\r\\ncan be prepared either spicy or sweet, your choice!\\r\\ntwo of my posted mexican-inspired seasoning mix recipes are offered as suggestions.',\n",
       " 'ingredients': \"['winter squash', 'mexican seasoning', 'mixed spice', 'honey', 'butter', 'olive oil', 'salt']\",\n",
       " 'n_ingredients': '7',\n",
       " 'processed_description': 'autumn favorit time year cook recip prepar either spici sweet choic two post mexican inspir season mix recip offer suggest',\n",
       " 'processed_steps': 'make choic proceed recip depend size squash cut half fourth remov seed spici squash drizzl oliv oil melt butter cut squash piec season mexican season mix ii sweet squash drizzl melt honey butter grate piloncillo cut squash piec season sweet mexican spice mix bake 350 degre depend size 40 minut hour fork easili pierc skin care burn squash especi opt use sugar butter feel comfort cover squash aluminum foil first half hour give take bake desir season salt'}"
      ]
     },
     "execution_count": 7,
     "metadata": {},
     "output_type": "execute_result"
    }
   ],
   "source": [
    "dataset_recipes[0]"
   ]
  },
  {
   "cell_type": "markdown",
   "id": "49f5c495-e999-41b4-80dc-147049fd011b",
   "metadata": {},
   "source": [
    "# Text Processing: RAW_Interaction.CSV #"
   ]
  },
  {
   "cell_type": "code",
   "execution_count": 8,
   "id": "9aecbe22-985e-4f17-9aa7-fced439de445",
   "metadata": {},
   "outputs": [],
   "source": [
    "import csv\n",
    "import gzip\n",
    "\n",
    "dataset_inter = []\n",
    "\n",
    "with gzip.open(\"/Users/seonminhwang/Downloads/archive/RAW_interactions.csv.gz\", mode='rt', newline='') as f:\n",
    "    reader = csv.DictReader(f)  # Assuming the file has headers\n",
    "    for row in reader:\n",
    "        dataset_inter.append(row)\n",
    "        if len(dataset_inter) >= 20000:\n",
    "            break"
   ]
  },
  {
   "cell_type": "code",
   "execution_count": 11,
   "id": "706d61cb-dac4-408d-ae44-e79c00cd9cce",
   "metadata": {},
   "outputs": [
    {
     "data": {
      "text/plain": [
       "20000"
      ]
     },
     "execution_count": 11,
     "metadata": {},
     "output_type": "execute_result"
    }
   ],
   "source": [
    "len(dataset_inter)"
   ]
  },
  {
   "cell_type": "code",
   "execution_count": 12,
   "id": "592a32e2-b0dd-4f02-811e-013f4fbe1275",
   "metadata": {},
   "outputs": [
    {
     "data": {
      "text/plain": [
       "{'user_id': '242106',\n",
       " 'recipe_id': '92066',\n",
       " 'date': '2008-02-08',\n",
       " 'rating': '5',\n",
       " 'review': \"I made this up before Christmas, put it in cellophane bags and gave it to work colleagues as a gift. Then I made up jars of it for family for Christmas as well. Universally everyone asked me for the recipe because they liked it so much. \\r\\n\\r\\nI finally got around to making some up for us about three weeks ago. (because everyone was raving about it at work) It's been tried on BBQ'd steak and on oven baked chicken wings thuis far at our house. I love it! It is spicy but not hot and adds a wonderful flavour. You can sprinkle it on meats immediately prior to cooking or leave it to marinade for hours before cooking. Im also thinking you could sprinkle chops and other meats with this and then dump then in the freezer until youre ready to cook them.\\r\\n\\r\\nI wish they allowed more than 5 stars because this recipe is a definite keeper and we will make it up again and again.\"}"
      ]
     },
     "execution_count": 12,
     "metadata": {},
     "output_type": "execute_result"
    }
   ],
   "source": [
    "dataset_inter[19999]"
   ]
  },
  {
   "cell_type": "markdown",
   "id": "fcd3aeef-bb84-4e95-a629-e9db4cc838e3",
   "metadata": {},
   "source": [
    "# Create Vector for Word Count #"
   ]
  },
  {
   "cell_type": "code",
   "execution_count": 13,
   "id": "4395bfae-0bd5-47b6-a91c-b3ca51f50e3f",
   "metadata": {},
   "outputs": [],
   "source": [
    "import nltk\n",
    "\n",
    "# Import NLP functions\n",
    "stop_words = set(nltk.corpus.stopwords.words('english'))\n",
    "wordCount = defaultdict(int)\n",
    "punctuation = set(string.punctuation)\n",
    "stemmer = PorterStemmer()\n",
    "\n",
    "# Create vocabulary dictionary of all words in the Corpus\n",
    "vocabulary = {}  # Will map words to indices\n",
    "index = 0\n",
    "\n",
    "for d in dataset_inter:\n",
    "    r = ''.join([c for c in d['review'].lower() if not c in punctuation])\n",
    "    for w in r.split():\n",
    "        #w = stemmer.stem(w)                             # Stemming\n",
    "        if w not in stop_words and w not in vocabulary:  # If word is not a stopword and not in vocabulary\n",
    "            vocabulary[w] = index\n",
    "            index += 1"
   ]
  },
  {
   "cell_type": "code",
   "execution_count": 14,
   "id": "ee970d62-6a58-4278-a4f2-4ce47149bc35",
   "metadata": {},
   "outputs": [
    {
     "data": {
      "text/plain": [
       "24240"
      ]
     },
     "execution_count": 14,
     "metadata": {},
     "output_type": "execute_result"
    }
   ],
   "source": [
    "len(vocabulary)"
   ]
  },
  {
   "cell_type": "code",
   "execution_count": 15,
   "id": "03ec682a-4343-434b-88d4-20488293f9e2",
   "metadata": {},
   "outputs": [],
   "source": [
    "# Create word count vector using the dictionary\n",
    "def create_count_vector(datum):\n",
    "    feat = numpy.zeros(len(vocabulary))\n",
    "    r = ''.join([c for c in datum['review'].lower() if not c in punctuation])\n",
    "    for w in r.split():\n",
    "        #w = stemmer.stem(w)                         # Stemming\n",
    "        if w not in stop_words and w in vocabulary:  # If it's not a stopword and it's in the vocabulary\n",
    "            feat[vocabulary[w]] += 1 \n",
    "    return feat\n",
    "\n",
    "count_vectors = [create_count_vector(d) for d in dataset_inter]\n",
    "\n",
    "for i, d in enumerate(dataset_inter):                # Append back to the original dataset \n",
    "    d['wordcount_vector'] = count_vectors[i]"
   ]
  },
  {
   "cell_type": "code",
   "execution_count": 16,
   "id": "d2220556-1e81-4123-8f84-823465fecbbd",
   "metadata": {},
   "outputs": [
    {
     "data": {
      "text/plain": [
       "{'user_id': '242106',\n",
       " 'recipe_id': '92066',\n",
       " 'date': '2008-02-08',\n",
       " 'rating': '5',\n",
       " 'review': \"I made this up before Christmas, put it in cellophane bags and gave it to work colleagues as a gift. Then I made up jars of it for family for Christmas as well. Universally everyone asked me for the recipe because they liked it so much. \\r\\n\\r\\nI finally got around to making some up for us about three weeks ago. (because everyone was raving about it at work) It's been tried on BBQ'd steak and on oven baked chicken wings thuis far at our house. I love it! It is spicy but not hot and adds a wonderful flavour. You can sprinkle it on meats immediately prior to cooking or leave it to marinade for hours before cooking. Im also thinking you could sprinkle chops and other meats with this and then dump then in the freezer until youre ready to cook them.\\r\\n\\r\\nI wish they allowed more than 5 stars because this recipe is a definite keeper and we will make it up again and again.\",\n",
       " 'wordcount_vector': array([0., 0., 0., ..., 0., 0., 1.])}"
      ]
     },
     "execution_count": 16,
     "metadata": {},
     "output_type": "execute_result"
    }
   ],
   "source": [
    "dataset_inter[19999]"
   ]
  },
  {
   "cell_type": "markdown",
   "id": "ff8ec65d-1268-4ebb-895f-a1345d148383",
   "metadata": {},
   "source": [
    "## Potential Sentiment Analysis (Unigram-BoW) ##"
   ]
  },
  {
   "cell_type": "code",
   "execution_count": 17,
   "id": "78391128-26bd-4d10-8310-41afe219de41",
   "metadata": {},
   "outputs": [
    {
     "name": "stderr",
     "output_type": "stream",
     "text": [
      "/opt/anaconda3/lib/python3.11/site-packages/sklearn/linear_model/_logistic.py:458: ConvergenceWarning: lbfgs failed to converge (status=1):\n",
      "STOP: TOTAL NO. of ITERATIONS REACHED LIMIT.\n",
      "\n",
      "Increase the number of iterations (max_iter) or scale the data as shown in:\n",
      "    https://scikit-learn.org/stable/modules/preprocessing.html\n",
      "Please also refer to the documentation for alternative solver options:\n",
      "    https://scikit-learn.org/stable/modules/linear_model.html#logistic-regression\n",
      "  n_iter_i = _check_optimize_result(\n"
     ]
    },
    {
     "data": {
      "text/plain": [
       "0.7144"
      ]
     },
     "execution_count": 17,
     "metadata": {},
     "output_type": "execute_result"
    }
   ],
   "source": [
    "X = [d['wordcount_vector']for d in dataset_inter]\n",
    "y = [d['rating'] for d in dataset_inter]\n",
    "\n",
    "Split = int(0.5*len(dataset_inter))\n",
    "\n",
    "Xtrain = X[:Split]\n",
    "ytrain = y[:Split]\n",
    "Xtest = X[Split:]\n",
    "ytest = y[Split:]\n",
    "\n",
    "mod = sklearn.linear_model.LogisticRegression(C=1).fit(Xtrain, ytrain)\n",
    "theta = mod.coef_\n",
    "predictions = mod.predict(Xtest)\n",
    "\n",
    "correct = (predictions == ytest)\n",
    "accuracy = sum(correct) / len(correct)\n",
    "accuracy"
   ]
  },
  {
   "cell_type": "code",
   "execution_count": 19,
   "id": "eca1ce84-0787-44ce-b630-b3201733ca2e",
   "metadata": {},
   "outputs": [
    {
     "data": {
      "image/png": "[encoded data removed]",
      "text/plain": [
       "<Figure size 800x600 with 1 Axes>"
      ]
     },
     "metadata": {},
     "output_type": "display_data"
    }
   ],
   "source": [
    "import matplotlib.pyplot as plt\n",
    "\n",
    "plt.figure(figsize=(8, 6))\n",
    "plt.hist([ytest, predictions], bins=numpy.arange(0, 7, 1), alpha=0.5, label=['Actual', 'Predicted'])\n",
    "\n",
    "plt.xlabel('Class Label')\n",
    "plt.ylabel('Frequency')\n",
    "plt.title('Distribution of Actual vs Predicted Values')\n",
    "plt.legend(loc='upper right')\n",
    "plt.show()"
   ]
  },
  {
   "cell_type": "markdown",
   "id": "3a362536-f842-4cfc-a2d2-b2aae9822702",
   "metadata": {},
   "source": [
    "## Using TF-IDF Vector ##"
   ]
  },
  {
   "cell_type": "code",
   "execution_count": 20,
   "id": "b8321651-49e8-4511-9a33-6f03ba3dde5a",
   "metadata": {},
   "outputs": [],
   "source": [
    "from sklearn.feature_extraction.text import TfidfVectorizer\n",
    "import string\n",
    "\n",
    "# Prepare the review texts for TF-IDF (no Stemming)\n",
    "reviews = [''.join([c for c in d['review'].lower() if c not in string.punctuation]) for d in dataset_inter]\n",
    "\n",
    "# Create the TF-IDF vectors\n",
    "tfidf = TfidfVectorizer(max_features=1000, stop_words='english')  # Limit to top 1000 features\n",
    "tfidf_vectors = tfidf.fit_transform(reviews)\n",
    "\n",
    "# Assign TF-IDF vectors back to each dataset_inter entry\n",
    "for i, d in enumerate(dataset_inter):\n",
    "    d['tfidf_vector'] = tfidf_vectors[i].toarray().flatten()"
   ]
  },
  {
   "cell_type": "code",
   "execution_count": 21,
   "id": "a8a265f3-f1d8-430b-80eb-38bc826c8eaa",
   "metadata": {},
   "outputs": [
    {
     "data": {
      "text/plain": [
       "{'user_id': '242106',\n",
       " 'recipe_id': '92066',\n",
       " 'date': '2008-02-08',\n",
       " 'rating': '5',\n",
       " 'review': \"I made this up before Christmas, put it in cellophane bags and gave it to work colleagues as a gift. Then I made up jars of it for family for Christmas as well. Universally everyone asked me for the recipe because they liked it so much. \\r\\n\\r\\nI finally got around to making some up for us about three weeks ago. (because everyone was raving about it at work) It's been tried on BBQ'd steak and on oven baked chicken wings thuis far at our house. I love it! It is spicy but not hot and adds a wonderful flavour. You can sprinkle it on meats immediately prior to cooking or leave it to marinade for hours before cooking. Im also thinking you could sprinkle chops and other meats with this and then dump then in the freezer until youre ready to cook them.\\r\\n\\r\\nI wish they allowed more than 5 stars because this recipe is a definite keeper and we will make it up again and again.\",\n",
       " 'wordcount_vector': array([0., 0., 0., ..., 0., 0., 1.]),\n",
       " 'tfidf_vector': array([0.        , 0.        , 0.        , 0.        , 0.        ,\n",
       "        0.        , 0.        , 0.        , 0.        , 0.        ,\n",
       "        0.        , 0.        , 0.        , 0.        , 0.        ,\n",
       "        0.        , 0.        , 0.        , 0.        , 0.        ,\n",
       "        0.        , 0.        , 0.        , 0.        , 0.        ,\n",
       "        0.        , 0.1651257 , 0.        , 0.        , 0.15073579,\n",
       "        0.        , 0.        , 0.        , 0.        , 0.        ,\n",
       "        0.        , 0.        , 0.        , 0.        , 0.        ,\n",
       "        0.        , 0.        , 0.15245881, 0.        , 0.        ,\n",
       "        0.        , 0.        , 0.        , 0.        , 0.        ,\n",
       "        0.        , 0.        , 0.        , 0.        , 0.11407496,\n",
       "        0.        , 0.        , 0.        , 0.        , 0.        ,\n",
       "        0.        , 0.        , 0.        , 0.        , 0.        ,\n",
       "        0.        , 0.        , 0.        , 0.        , 0.        ,\n",
       "        0.        , 0.        , 0.        , 0.        , 0.        ,\n",
       "        0.        , 0.        , 0.        , 0.        , 0.        ,\n",
       "        0.        , 0.        , 0.        , 0.        , 0.        ,\n",
       "        0.        , 0.        , 0.        , 0.        , 0.        ,\n",
       "        0.        , 0.        , 0.        , 0.        , 0.        ,\n",
       "        0.        , 0.        , 0.        , 0.        , 0.        ,\n",
       "        0.        , 0.        , 0.        , 0.        , 0.        ,\n",
       "        0.        , 0.        , 0.        , 0.        , 0.        ,\n",
       "        0.        , 0.        , 0.        , 0.        , 0.        ,\n",
       "        0.        , 0.        , 0.        , 0.        , 0.        ,\n",
       "        0.        , 0.        , 0.        , 0.        , 0.        ,\n",
       "        0.        , 0.        , 0.        , 0.        , 0.        ,\n",
       "        0.        , 0.        , 0.        , 0.        , 0.        ,\n",
       "        0.        , 0.        , 0.        , 0.        , 0.        ,\n",
       "        0.        , 0.        , 0.        , 0.        , 0.        ,\n",
       "        0.        , 0.        , 0.        , 0.        , 0.09399668,\n",
       "        0.        , 0.        , 0.        , 0.        , 0.        ,\n",
       "        0.15804796, 0.        , 0.29347958, 0.        , 0.        ,\n",
       "        0.        , 0.        , 0.        , 0.        , 0.        ,\n",
       "        0.        , 0.        , 0.        , 0.        , 0.        ,\n",
       "        0.        , 0.        , 0.        , 0.        , 0.        ,\n",
       "        0.        , 0.        , 0.        , 0.12004998, 0.        ,\n",
       "        0.        , 0.        , 0.        , 0.        , 0.22921715,\n",
       "        0.        , 0.        , 0.        , 0.        , 0.        ,\n",
       "        0.        , 0.        , 0.        , 0.        , 0.        ,\n",
       "        0.        , 0.        , 0.        , 0.        , 0.        ,\n",
       "        0.        , 0.        , 0.        , 0.        , 0.        ,\n",
       "        0.        , 0.        , 0.        , 0.        , 0.        ,\n",
       "        0.        , 0.        , 0.        , 0.        , 0.        ,\n",
       "        0.        , 0.        , 0.        , 0.        , 0.        ,\n",
       "        0.        , 0.        , 0.        , 0.        , 0.        ,\n",
       "        0.        , 0.        , 0.17547811, 0.        , 0.        ,\n",
       "        0.        , 0.        , 0.        , 0.        , 0.        ,\n",
       "        0.        , 0.        , 0.        , 0.        , 0.        ,\n",
       "        0.        , 0.        , 0.        , 0.        , 0.        ,\n",
       "        0.        , 0.        , 0.        , 0.        , 0.        ,\n",
       "        0.        , 0.        , 0.        , 0.        , 0.        ,\n",
       "        0.        , 0.        , 0.        , 0.        , 0.        ,\n",
       "        0.        , 0.        , 0.        , 0.        , 0.        ,\n",
       "        0.        , 0.        , 0.        , 0.        , 0.        ,\n",
       "        0.        , 0.        , 0.        , 0.        , 0.        ,\n",
       "        0.        , 0.        , 0.        , 0.        , 0.        ,\n",
       "        0.        , 0.        , 0.        , 0.        , 0.        ,\n",
       "        0.        , 0.        , 0.        , 0.        , 0.        ,\n",
       "        0.        , 0.        , 0.09892407, 0.        , 0.        ,\n",
       "        0.14924845, 0.        , 0.        , 0.        , 0.        ,\n",
       "        0.        , 0.        , 0.        , 0.        , 0.        ,\n",
       "        0.15860226, 0.        , 0.        , 0.        , 0.        ,\n",
       "        0.        , 0.        , 0.        , 0.        , 0.        ,\n",
       "        0.        , 0.        , 0.        , 0.        , 0.14203235,\n",
       "        0.        , 0.        , 0.        , 0.        , 0.        ,\n",
       "        0.        , 0.        , 0.        , 0.        , 0.        ,\n",
       "        0.        , 0.14626515, 0.        , 0.        , 0.        ,\n",
       "        0.        , 0.        , 0.        , 0.        , 0.        ,\n",
       "        0.        , 0.        , 0.        , 0.        , 0.        ,\n",
       "        0.        , 0.        , 0.        , 0.        , 0.        ,\n",
       "        0.13061189, 0.        , 0.        , 0.        , 0.        ,\n",
       "        0.        , 0.        , 0.        , 0.        , 0.        ,\n",
       "        0.        , 0.        , 0.        , 0.        , 0.        ,\n",
       "        0.        , 0.11658432, 0.        , 0.        , 0.        ,\n",
       "        0.        , 0.        , 0.        , 0.        , 0.        ,\n",
       "        0.        , 0.        , 0.        , 0.        , 0.        ,\n",
       "        0.        , 0.        , 0.        , 0.        , 0.        ,\n",
       "        0.        , 0.        , 0.        , 0.        , 0.        ,\n",
       "        0.        , 0.        , 0.        , 0.        , 0.        ,\n",
       "        0.        , 0.        , 0.        , 0.        , 0.        ,\n",
       "        0.        , 0.        , 0.        , 0.        , 0.        ,\n",
       "        0.        , 0.1179741 , 0.        , 0.1294593 , 0.1306774 ,\n",
       "        0.        , 0.        , 0.        , 0.        , 0.        ,\n",
       "        0.        , 0.        , 0.        , 0.        , 0.        ,\n",
       "        0.10296972, 0.        , 0.        , 0.        , 0.        ,\n",
       "        0.        , 0.        , 0.        , 0.        , 0.        ,\n",
       "        0.        , 0.        , 0.        , 0.        , 0.        ,\n",
       "        0.        , 0.        , 0.        , 0.        , 0.        ,\n",
       "        0.        , 0.        , 0.        , 0.        , 0.        ,\n",
       "        0.        , 0.        , 0.11411021, 0.        , 0.        ,\n",
       "        0.        , 0.        , 0.        , 0.        , 0.        ,\n",
       "        0.        , 0.        , 0.        , 0.        , 0.        ,\n",
       "        0.        , 0.        , 0.14650141, 0.        , 0.        ,\n",
       "        0.        , 0.        , 0.        , 0.        , 0.        ,\n",
       "        0.        , 0.        , 0.        , 0.1101514 , 0.        ,\n",
       "        0.        , 0.        , 0.        , 0.        , 0.        ,\n",
       "        0.        , 0.        , 0.        , 0.        , 0.        ,\n",
       "        0.        , 0.        , 0.        , 0.        , 0.        ,\n",
       "        0.        , 0.        , 0.        , 0.        , 0.09255846,\n",
       "        0.        , 0.        , 0.        , 0.        , 0.        ,\n",
       "        0.        , 0.        , 0.        , 0.        , 0.0627964 ,\n",
       "        0.        , 0.09274792, 0.        , 0.        , 0.15144025,\n",
       "        0.        , 0.        , 0.        , 0.        , 0.        ,\n",
       "        0.        , 0.        , 0.        , 0.        , 0.        ,\n",
       "        0.        , 0.        , 0.        , 0.        , 0.        ,\n",
       "        0.        , 0.        , 0.        , 0.        , 0.        ,\n",
       "        0.        , 0.        , 0.        , 0.        , 0.        ,\n",
       "        0.        , 0.        , 0.        , 0.        , 0.        ,\n",
       "        0.        , 0.        , 0.        , 0.        , 0.        ,\n",
       "        0.        , 0.        , 0.        , 0.        , 0.        ,\n",
       "        0.        , 0.        , 0.        , 0.        , 0.        ,\n",
       "        0.        , 0.        , 0.        , 0.        , 0.        ,\n",
       "        0.        , 0.        , 0.        , 0.        , 0.        ,\n",
       "        0.        , 0.        , 0.        , 0.        , 0.        ,\n",
       "        0.        , 0.        , 0.        , 0.        , 0.        ,\n",
       "        0.        , 0.        , 0.        , 0.        , 0.        ,\n",
       "        0.        , 0.        , 0.        , 0.        , 0.        ,\n",
       "        0.        , 0.11446523, 0.        , 0.        , 0.        ,\n",
       "        0.        , 0.        , 0.        , 0.        , 0.        ,\n",
       "        0.        , 0.        , 0.        , 0.        , 0.        ,\n",
       "        0.        , 0.        , 0.        , 0.        , 0.        ,\n",
       "        0.        , 0.        , 0.        , 0.        , 0.        ,\n",
       "        0.        , 0.        , 0.        , 0.        , 0.        ,\n",
       "        0.        , 0.        , 0.        , 0.        , 0.        ,\n",
       "        0.        , 0.        , 0.        , 0.        , 0.        ,\n",
       "        0.        , 0.        , 0.        , 0.        , 0.        ,\n",
       "        0.        , 0.        , 0.        , 0.        , 0.        ,\n",
       "        0.        , 0.        , 0.        , 0.        , 0.        ,\n",
       "        0.        , 0.        , 0.        , 0.        , 0.        ,\n",
       "        0.        , 0.        , 0.        , 0.        , 0.        ,\n",
       "        0.        , 0.        , 0.        , 0.        , 0.        ,\n",
       "        0.        , 0.        , 0.        , 0.        , 0.        ,\n",
       "        0.        , 0.        , 0.        , 0.        , 0.        ,\n",
       "        0.        , 0.        , 0.        , 0.        , 0.        ,\n",
       "        0.        , 0.        , 0.        , 0.        , 0.        ,\n",
       "        0.        , 0.        , 0.        , 0.        , 0.15593916,\n",
       "        0.        , 0.        , 0.        , 0.        , 0.09781999,\n",
       "        0.        , 0.        , 0.        , 0.        , 0.        ,\n",
       "        0.        , 0.        , 0.        , 0.        , 0.        ,\n",
       "        0.        , 0.        , 0.        , 0.        , 0.        ,\n",
       "        0.        , 0.        , 0.        , 0.        , 0.        ,\n",
       "        0.        , 0.        , 0.        , 0.        , 0.        ,\n",
       "        0.        , 0.        , 0.        , 0.        , 0.        ,\n",
       "        0.        , 0.        , 0.        , 0.        , 0.        ,\n",
       "        0.        , 0.        , 0.        , 0.        , 0.        ,\n",
       "        0.        , 0.        , 0.        , 0.        , 0.        ,\n",
       "        0.        , 0.        , 0.        , 0.        , 0.        ,\n",
       "        0.        , 0.        , 0.        , 0.        , 0.        ,\n",
       "        0.        , 0.        , 0.        , 0.        , 0.        ,\n",
       "        0.        , 0.        , 0.        , 0.        , 0.        ,\n",
       "        0.        , 0.        , 0.        , 0.        , 0.        ,\n",
       "        0.        , 0.        , 0.        , 0.        , 0.        ,\n",
       "        0.        , 0.        , 0.        , 0.        , 0.        ,\n",
       "        0.        , 0.        , 0.        , 0.        , 0.        ,\n",
       "        0.        , 0.        , 0.        , 0.        , 0.        ,\n",
       "        0.        , 0.        , 0.        , 0.        , 0.        ,\n",
       "        0.        , 0.        , 0.        , 0.        , 0.        ,\n",
       "        0.        , 0.        , 0.        , 0.        , 0.        ,\n",
       "        0.        , 0.        , 0.        , 0.        , 0.        ,\n",
       "        0.        , 0.        , 0.        , 0.        , 0.        ,\n",
       "        0.13154407, 0.        , 0.        , 0.        , 0.        ,\n",
       "        0.        , 0.        , 0.        , 0.33792899, 0.        ,\n",
       "        0.        , 0.        , 0.12122072, 0.        , 0.        ,\n",
       "        0.        , 0.15878961, 0.        , 0.        , 0.        ,\n",
       "        0.        , 0.        , 0.        , 0.        , 0.        ,\n",
       "        0.        , 0.        , 0.        , 0.        , 0.        ,\n",
       "        0.        , 0.        , 0.        , 0.        , 0.        ,\n",
       "        0.        , 0.        , 0.        , 0.        , 0.        ,\n",
       "        0.        , 0.        , 0.        , 0.        , 0.        ,\n",
       "        0.        , 0.        , 0.        , 0.        , 0.        ,\n",
       "        0.        , 0.        , 0.        , 0.        , 0.        ,\n",
       "        0.        , 0.        , 0.        , 0.        , 0.        ,\n",
       "        0.        , 0.        , 0.        , 0.        , 0.        ,\n",
       "        0.        , 0.        , 0.        , 0.        , 0.        ,\n",
       "        0.        , 0.        , 0.        , 0.        , 0.        ,\n",
       "        0.        , 0.        , 0.        , 0.        , 0.        ,\n",
       "        0.        , 0.        , 0.        , 0.        , 0.        ,\n",
       "        0.        , 0.        , 0.        , 0.        , 0.        ,\n",
       "        0.1651257 , 0.        , 0.        , 0.        , 0.        ,\n",
       "        0.        , 0.        , 0.        , 0.        , 0.        ,\n",
       "        0.        , 0.        , 0.        , 0.        , 0.        ,\n",
       "        0.        , 0.        , 0.        , 0.        , 0.        ,\n",
       "        0.        , 0.        , 0.        , 0.        , 0.        ,\n",
       "        0.        , 0.        , 0.        , 0.        , 0.11574638,\n",
       "        0.        , 0.        , 0.        , 0.        , 0.        ,\n",
       "        0.        , 0.        , 0.        , 0.        , 0.        ,\n",
       "        0.        , 0.        , 0.        , 0.        , 0.        ,\n",
       "        0.        , 0.        , 0.        , 0.        , 0.        ,\n",
       "        0.        , 0.        , 0.        , 0.        , 0.        ,\n",
       "        0.        , 0.        , 0.        , 0.        , 0.        ,\n",
       "        0.        , 0.        , 0.        , 0.        , 0.        ,\n",
       "        0.        , 0.        , 0.        , 0.        , 0.        ,\n",
       "        0.        , 0.        , 0.        , 0.        , 0.        ,\n",
       "        0.        , 0.        , 0.        , 0.184602  , 0.        ,\n",
       "        0.        , 0.1599422 , 0.0925113 , 0.        , 0.        ,\n",
       "        0.24450618, 0.        , 0.        , 0.        , 0.        ,\n",
       "        0.        , 0.        , 0.        , 0.        , 0.        ,\n",
       "        0.        , 0.        , 0.        , 0.        , 0.        ,\n",
       "        0.        , 0.        , 0.17478463, 0.        , 0.        ,\n",
       "        0.        , 0.        , 0.        , 0.        , 0.        ])}"
      ]
     },
     "execution_count": 21,
     "metadata": {},
     "output_type": "execute_result"
    }
   ],
   "source": [
    "dataset_inter[19999]"
   ]
  },
  {
   "cell_type": "code",
   "execution_count": 22,
   "id": "9f40c605-abb9-47dd-bd2c-a220f3ed908b",
   "metadata": {},
   "outputs": [
    {
     "name": "stderr",
     "output_type": "stream",
     "text": [
      "/opt/anaconda3/lib/python3.11/site-packages/sklearn/linear_model/_logistic.py:458: ConvergenceWarning: lbfgs failed to converge (status=1):\n",
      "STOP: TOTAL NO. of ITERATIONS REACHED LIMIT.\n",
      "\n",
      "Increase the number of iterations (max_iter) or scale the data as shown in:\n",
      "    https://scikit-learn.org/stable/modules/preprocessing.html\n",
      "Please also refer to the documentation for alternative solver options:\n",
      "    https://scikit-learn.org/stable/modules/linear_model.html#logistic-regression\n",
      "  n_iter_i = _check_optimize_result(\n"
     ]
    },
    {
     "data": {
      "text/plain": [
       "0.7357"
      ]
     },
     "execution_count": 22,
     "metadata": {},
     "output_type": "execute_result"
    }
   ],
   "source": [
    "X = [d['tfidf_vector']for d in dataset_inter]\n",
    "y = [d['rating'] for d in dataset_inter]\n",
    "\n",
    "Split = int(0.5*len(dataset_inter))\n",
    "\n",
    "Xtrain = X[:Split]\n",
    "ytrain = y[:Split]\n",
    "Xtest = X[Split:]\n",
    "ytest = y[Split:]\n",
    "\n",
    "mod = sklearn.linear_model.LogisticRegression(C=1).fit(Xtrain, ytrain)\n",
    "theta = mod.coef_\n",
    "predictions = mod.predict(Xtest)\n",
    "\n",
    "correct = (predictions == ytest)\n",
    "accuracy = sum(correct) / len(correct)\n",
    "accuracy"
   ]
  },
  {
   "cell_type": "code",
   "execution_count": 23,
   "id": "d383f6e9-39e8-4f1b-9e18-7cd66cc262ee",
   "metadata": {},
   "outputs": [
    {
     "data": {
      "image/png": "[encoded data removed]",
      "text/plain": [
       "<Figure size 800x600 with 1 Axes>"
      ]
     },
     "metadata": {},
     "output_type": "display_data"
    }
   ],
   "source": [
    "import matplotlib.pyplot as plt\n",
    "\n",
    "plt.figure(figsize=(8, 6))\n",
    "plt.hist([ytest, predictions], bins=numpy.arange(0, 7, 1), alpha=0.5, label=['Actual', 'Predicted'])\n",
    "\n",
    "plt.xlabel('Class Label')\n",
    "plt.ylabel('Frequency')\n",
    "plt.title('Distribution of Actual vs Predicted Values')\n",
    "plt.legend(loc='upper right')\n",
    "plt.show()"
   ]
  },
  {
   "cell_type": "code",
   "execution_count": null,
   "id": "1b8779de-152c-429d-acee-88c6ff8df5a8",
   "metadata": {},
   "outputs": [],
   "source": []
  }
 ],
 "metadata": {
  "kernelspec": {
   "display_name": "Python 3 (ipykernel)",
   "language": "python",
   "name": "python3"
  },
  "language_info": {
   "codemirror_mode": {
    "name": "ipython",
    "version": 3
   },
   "file_extension": ".py",
   "mimetype": "text/x-python",
   "name": "python",
   "nbconvert_exporter": "python",
   "pygments_lexer": "ipython3",
   "version": "3.11.7"
  }
 },
 "nbformat": 4,
 "nbformat_minor": 5
}
